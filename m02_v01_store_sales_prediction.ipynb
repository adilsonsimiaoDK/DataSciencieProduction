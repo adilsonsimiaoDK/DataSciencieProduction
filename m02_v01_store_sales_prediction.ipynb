{
 "cells": [
  {
   "cell_type": "markdown",
   "id": "colonial-sustainability",
   "metadata": {},
   "source": [
    "0.0. IMPORTS"
   ]
  },
  {
   "cell_type": "code",
   "execution_count": 83,
   "id": "pointed-ceiling",
   "metadata": {
    "ExecuteTime": {
     "end_time": "2021-03-08T16:14:14.051165Z",
     "start_time": "2021-03-08T16:14:13.904755Z"
    },
    "hide_input": false
   },
   "outputs": [],
   "source": [
    "import pandas as pd\n",
    "import inflection\n",
    "import numpy as np\n",
    "import math\n",
    "import datetime\n",
    "import seaborn as sns\n",
    "from matplotlib import pyplot as plt\n",
    "from IPython.core.display import HTML\n"
   ]
  },
  {
   "cell_type": "markdown",
   "id": "stainless-tampa",
   "metadata": {},
   "source": [
    "0.1. Helper Functions"
   ]
  },
  {
   "cell_type": "code",
   "execution_count": 84,
   "id": "demographic-privilege",
   "metadata": {
    "ExecuteTime": {
     "end_time": "2021-03-08T16:14:47.026133Z",
     "start_time": "2021-03-08T16:14:47.001283Z"
    }
   },
   "outputs": [],
   "source": [
    "def jupyter_settings():\n",
    "    %matplotlib inline\n",
    "    %pylab inline\n",
    "    \n",
    "    plt.style.use( 'bmh' )\n",
    "    plt.rcParams['figure.figsize'] = [25, 12]\n",
    "    plt.rcParams['font.size'] = 24\n",
    "    \n",
    "    display( HTML( '<style>.container { width:100% !important; }</style>') )\n",
    "    pd.options.display.max_columns = None\n",
    "    pd.options.display.max_rows = None\n",
    "    pd.set_option( 'display.expand_frame_repr', False )\n",
    "    \n",
    "    sns.set()"
   ]
  },
  {
   "cell_type": "code",
   "execution_count": 85,
   "id": "dependent-evans",
   "metadata": {
    "ExecuteTime": {
     "end_time": "2021-03-08T16:17:01.421789Z",
     "start_time": "2021-03-08T16:17:01.398057Z"
    }
   },
   "outputs": [],
   "source": [
    "jupyter_settings()"
   ]
  },
  {
   "cell_type": "markdown",
   "id": "convenient-monitor",
   "metadata": {
    "lang": "en"
   },
   "source": [
    "0.2 Loading Data"
   ]
  },
  {
   "cell_type": "code",
   "execution_count": 44,
   "id": "spatial-galaxy",
   "metadata": {
    "ExecuteTime": {
     "end_time": "2021-03-08T10:53:13.758260Z",
     "start_time": "2021-03-08T10:53:11.607653Z"
    }
   },
   "outputs": [],
   "source": [
    "df_sales_raw = pd.read_csv('data/train.csv', low_memory=False)\n",
    "df_store_raw = pd.read_csv('data/store.csv', low_memory=False)\n",
    "# merge\n",
    "df_raw = pd.merge(df_sales_raw, df_store_raw, how='left', on='Store' )"
   ]
  },
  {
   "cell_type": "markdown",
   "id": "continuing-flour",
   "metadata": {
    "hide_input": true
   },
   "source": [
    "1.0 DATA DESCRIPTION."
   ]
  },
  {
   "cell_type": "code",
   "execution_count": 45,
   "id": "previous-protection",
   "metadata": {
    "ExecuteTime": {
     "end_time": "2021-03-08T10:53:15.086039Z",
     "start_time": "2021-03-08T10:53:14.948165Z"
    }
   },
   "outputs": [],
   "source": [
    "df1 = df_raw.copy()"
   ]
  },
  {
   "cell_type": "markdown",
   "id": "lonely-enlargement",
   "metadata": {
    "ExecuteTime": {
     "end_time": "2021-03-05T17:40:05.708403Z",
     "start_time": "2021-03-05T17:40:05.700167Z"
    }
   },
   "source": [
    "1.1 Rename columns.\n"
   ]
  },
  {
   "cell_type": "code",
   "execution_count": 46,
   "id": "absolute-richardson",
   "metadata": {
    "ExecuteTime": {
     "end_time": "2021-03-08T10:53:17.864630Z",
     "start_time": "2021-03-08T10:53:17.852532Z"
    }
   },
   "outputs": [],
   "source": [
    "cols_old = ['Store', 'DayOfWeek', 'Date', 'Sales','Customers','Open', 'Promo','StateHoliday','SchoolHoliday',\n",
    "               'StoreType', 'Assortment','CompetitionDistance','CompetitionOpenSinceMonth','CompetitionOpenSinceYear', \n",
    "               'Promo2', 'Promo2SinceWeek','Promo2SinceYear', 'PromoInterval']\n",
    "snackecase = lambda x: inflection.underscore(x)\n",
    "cols_new =list(map(snackecase, cols_old))\n",
    "df1.columns = cols_new"
   ]
  },
  {
   "cell_type": "markdown",
   "id": "floppy-shirt",
   "metadata": {},
   "source": [
    "1.2 Data Dimensions"
   ]
  },
  {
   "cell_type": "code",
   "execution_count": 47,
   "id": "pursuant-license",
   "metadata": {
    "ExecuteTime": {
     "end_time": "2021-03-08T10:53:20.685821Z",
     "start_time": "2021-03-08T10:53:20.675562Z"
    }
   },
   "outputs": [
    {
     "name": "stdout",
     "output_type": "stream",
     "text": [
      "number of Rows: 1017209\n",
      "Number of cols: 18\n"
     ]
    }
   ],
   "source": [
    "print(f'number of Rows: {df1.shape[0]}')\n",
    "print(f'Number of cols: {df1.shape[1]}')"
   ]
  },
  {
   "cell_type": "markdown",
   "id": "lucky-preserve",
   "metadata": {},
   "source": [
    "1.3 variable date conversion"
   ]
  },
  {
   "cell_type": "code",
   "execution_count": 48,
   "id": "located-vitamin",
   "metadata": {
    "ExecuteTime": {
     "end_time": "2021-03-08T10:53:24.869676Z",
     "start_time": "2021-03-08T10:53:24.630129Z"
    }
   },
   "outputs": [],
   "source": [
    "df1['date'] = pd.to_datetime(df1['date'] )"
   ]
  },
  {
   "cell_type": "markdown",
   "id": "formal-configuration",
   "metadata": {},
   "source": [
    "1.4 Sum of NA"
   ]
  },
  {
   "cell_type": "code",
   "execution_count": 41,
   "id": "serious-format",
   "metadata": {
    "ExecuteTime": {
     "end_time": "2021-03-08T10:51:56.828482Z",
     "start_time": "2021-03-08T10:51:56.091701Z"
    }
   },
   "outputs": [
    {
     "data": {
      "text/plain": [
       "store                                0\n",
       "day_of_week                          0\n",
       "date                                 0\n",
       "sales                                0\n",
       "customers                            0\n",
       "open                                 0\n",
       "promo                                0\n",
       "state_holiday                        0\n",
       "school_holiday                       0\n",
       "store_type                           0\n",
       "assortment                           0\n",
       "competition_distance              2642\n",
       "competition_open_since_month         0\n",
       "competition_open_since_year     323348\n",
       "promo2                               0\n",
       "promo2_since_week               508031\n",
       "promo2_since_year               508031\n",
       "promo_interval                  508031\n",
       "month_map                            0\n",
       "dtype: int64"
      ]
     },
     "execution_count": 41,
     "metadata": {},
     "output_type": "execute_result"
    }
   ],
   "source": [
    "df1.isna().sum()"
   ]
  },
  {
   "cell_type": "markdown",
   "id": "aging-ethnic",
   "metadata": {},
   "source": [
    "1.5 Fillout NA"
   ]
  },
  {
   "cell_type": "code",
   "execution_count": 42,
   "id": "paperback-recipe",
   "metadata": {
    "ExecuteTime": {
     "end_time": "2021-03-08T10:52:58.038063Z",
     "start_time": "2021-03-08T10:52:58.034228Z"
    }
   },
   "outputs": [],
   "source": [
    "# Code better than under! \n",
    "# date_open = df1.date\n",
    "# df1.competition_open_since_month.fillna(df1.date, inplace=True)\n",
    "# df1.competition_open_since_year.fillna(df1.date.dt.year, inplace=True)\n",
    "# df1['is_promo'] = datedf1.date.dt.strftime(\"%b\")\n",
    "# print(df1.competition_open_since_month)"
   ]
  },
  {
   "cell_type": "code",
   "execution_count": 49,
   "id": "exceptional-concentration",
   "metadata": {
    "ExecuteTime": {
     "end_time": "2021-03-08T10:59:46.404202Z",
     "start_time": "2021-03-08T10:55:41.324161Z"
    }
   },
   "outputs": [],
   "source": [
    "# competition_distance    \n",
    "df1.competition_distance.fillna(10000., inplace=True)\n",
    "#competition_open_since_month\n",
    "df1['competition_open_since_month'] = df1.apply( lambda x: x['date'].month if math.isnan( x['competition_open_since_month'] ) else x['competition_open_since_month'], axis=1 )\n",
    "\n",
    "#competition_open_since_year \n",
    "df1['competition_open_since_year'] = df1.apply( lambda x: x['date'].year if math.isnan( x['competition_open_since_year'] ) else x['competition_open_since_year'], axis=1 )\n",
    "\n",
    "#promo2_since_week           \n",
    "df1['promo2_since_week'] = df1.apply( lambda x: x['date'].week if math.isnan( x['promo2_since_week'] ) else x['promo2_since_week'], axis=1 )\n",
    "\n",
    "#promo2_since_year           \n",
    "df1['promo2_since_year'] = df1.apply( lambda x: x['date'].year if math.isnan( x['promo2_since_year'] ) else x['promo2_since_year'], axis=1 )\n",
    "\n",
    "#promo_interval              \n",
    "month_map = {1: 'Jan',  2: 'Fev',  3: 'Mar',  4: 'Apr',  5: 'May',  6: 'Jun',  7: 'Jul',  8: 'Aug',  9: 'Sep',  10: 'Oct', 11: 'Nov', 12: 'Dec'}\n",
    "\n",
    "df1['promo_interval'].fillna(0, inplace=True )\n",
    "\n",
    "df1['month_map'] = df1['date'].dt.month.map( month_map )\n",
    "\n",
    "df1['is_promo'] = df1[['promo_interval', 'month_map']].apply( lambda x: 0 if x['promo_interval'] == 0 else 1 if x['month_map'] in x['promo_interval'].split( ',' ) else 0, axis=1 )\n"
   ]
  },
  {
   "cell_type": "code",
   "execution_count": 50,
   "id": "bigger-terrorism",
   "metadata": {
    "ExecuteTime": {
     "end_time": "2021-03-08T10:59:47.151711Z",
     "start_time": "2021-03-08T10:59:46.420762Z"
    }
   },
   "outputs": [
    {
     "data": {
      "text/html": [
       "<div>\n",
       "<style scoped>\n",
       "    .dataframe tbody tr th:only-of-type {\n",
       "        vertical-align: middle;\n",
       "    }\n",
       "\n",
       "    .dataframe tbody tr th {\n",
       "        vertical-align: top;\n",
       "    }\n",
       "\n",
       "    .dataframe thead th {\n",
       "        text-align: right;\n",
       "    }\n",
       "</style>\n",
       "<table border=\"1\" class=\"dataframe\">\n",
       "  <thead>\n",
       "    <tr style=\"text-align: right;\">\n",
       "      <th></th>\n",
       "      <th>91791</th>\n",
       "    </tr>\n",
       "  </thead>\n",
       "  <tbody>\n",
       "    <tr>\n",
       "      <th>store</th>\n",
       "      <td>362</td>\n",
       "    </tr>\n",
       "    <tr>\n",
       "      <th>day_of_week</th>\n",
       "      <td>7</td>\n",
       "    </tr>\n",
       "    <tr>\n",
       "      <th>date</th>\n",
       "      <td>2015-05-10 00:00:00</td>\n",
       "    </tr>\n",
       "    <tr>\n",
       "      <th>sales</th>\n",
       "      <td>0</td>\n",
       "    </tr>\n",
       "    <tr>\n",
       "      <th>customers</th>\n",
       "      <td>0</td>\n",
       "    </tr>\n",
       "    <tr>\n",
       "      <th>open</th>\n",
       "      <td>0</td>\n",
       "    </tr>\n",
       "    <tr>\n",
       "      <th>promo</th>\n",
       "      <td>0</td>\n",
       "    </tr>\n",
       "    <tr>\n",
       "      <th>state_holiday</th>\n",
       "      <td>0</td>\n",
       "    </tr>\n",
       "    <tr>\n",
       "      <th>school_holiday</th>\n",
       "      <td>0</td>\n",
       "    </tr>\n",
       "    <tr>\n",
       "      <th>store_type</th>\n",
       "      <td>c</td>\n",
       "    </tr>\n",
       "    <tr>\n",
       "      <th>assortment</th>\n",
       "      <td>c</td>\n",
       "    </tr>\n",
       "    <tr>\n",
       "      <th>competition_distance</th>\n",
       "      <td>340.0</td>\n",
       "    </tr>\n",
       "    <tr>\n",
       "      <th>competition_open_since_month</th>\n",
       "      <td>5.0</td>\n",
       "    </tr>\n",
       "    <tr>\n",
       "      <th>competition_open_since_year</th>\n",
       "      <td>2015.0</td>\n",
       "    </tr>\n",
       "    <tr>\n",
       "      <th>promo2</th>\n",
       "      <td>0</td>\n",
       "    </tr>\n",
       "    <tr>\n",
       "      <th>promo2_since_week</th>\n",
       "      <td>19.0</td>\n",
       "    </tr>\n",
       "    <tr>\n",
       "      <th>promo2_since_year</th>\n",
       "      <td>2015.0</td>\n",
       "    </tr>\n",
       "    <tr>\n",
       "      <th>promo_interval</th>\n",
       "      <td>0</td>\n",
       "    </tr>\n",
       "    <tr>\n",
       "      <th>month_map</th>\n",
       "      <td>May</td>\n",
       "    </tr>\n",
       "    <tr>\n",
       "      <th>is_promo</th>\n",
       "      <td>0</td>\n",
       "    </tr>\n",
       "  </tbody>\n",
       "</table>\n",
       "</div>"
      ],
      "text/plain": [
       "                                            91791\n",
       "store                                         362\n",
       "day_of_week                                     7\n",
       "date                          2015-05-10 00:00:00\n",
       "sales                                           0\n",
       "customers                                       0\n",
       "open                                            0\n",
       "promo                                           0\n",
       "state_holiday                                   0\n",
       "school_holiday                                  0\n",
       "store_type                                      c\n",
       "assortment                                      c\n",
       "competition_distance                        340.0\n",
       "competition_open_since_month                  5.0\n",
       "competition_open_since_year                2015.0\n",
       "promo2                                          0\n",
       "promo2_since_week                            19.0\n",
       "promo2_since_year                          2015.0\n",
       "promo_interval                                  0\n",
       "month_map                                     May\n",
       "is_promo                                        0"
      ]
     },
     "execution_count": 50,
     "metadata": {},
     "output_type": "execute_result"
    }
   ],
   "source": [
    "df1.sample(1).T"
   ]
  },
  {
   "cell_type": "markdown",
   "id": "lightweight-nightlife",
   "metadata": {},
   "source": [
    "1.6. Change Types:"
   ]
  },
  {
   "cell_type": "code",
   "execution_count": 54,
   "id": "cultural-grounds",
   "metadata": {
    "ExecuteTime": {
     "end_time": "2021-03-08T11:07:33.561967Z",
     "start_time": "2021-03-08T11:07:33.542435Z"
    }
   },
   "outputs": [
    {
     "data": {
      "text/plain": [
       "store                                    int64\n",
       "day_of_week                              int64\n",
       "date                            datetime64[ns]\n",
       "sales                                    int64\n",
       "customers                                int64\n",
       "open                                     int64\n",
       "promo                                    int64\n",
       "state_holiday                           object\n",
       "school_holiday                           int64\n",
       "store_type                              object\n",
       "assortment                              object\n",
       "competition_distance                   float64\n",
       "competition_open_since_month             int64\n",
       "competition_open_since_year              int64\n",
       "promo2                                   int64\n",
       "promo2_since_week                        int64\n",
       "promo2_since_year                        int64\n",
       "promo_interval                          object\n",
       "month_map                               object\n",
       "is_promo                                 int64\n",
       "dtype: object"
      ]
     },
     "execution_count": 54,
     "metadata": {},
     "output_type": "execute_result"
    }
   ],
   "source": [
    "df1.dtypes"
   ]
  },
  {
   "cell_type": "code",
   "execution_count": 53,
   "id": "hollywood-success",
   "metadata": {
    "ExecuteTime": {
     "end_time": "2021-03-08T11:07:21.876211Z",
     "start_time": "2021-03-08T11:07:21.809149Z"
    }
   },
   "outputs": [],
   "source": [
    "df1.competition_open_since_month = df1.competition_open_since_month.astype(int)\n",
    "df1.competition_open_since_year = df1.competition_open_since_year.astype(int)\n",
    "df1.promo2_since_week = df1.promo2_since_week.astype(int)\n",
    "df1.promo2_since_year = df1.promo2_since_year.astype(int)"
   ]
  },
  {
   "cell_type": "markdown",
   "id": "skilled-purchase",
   "metadata": {},
   "source": [
    "1.7 Descriptive Statiscal"
   ]
  },
  {
   "cell_type": "code",
   "execution_count": 55,
   "id": "embedded-advance",
   "metadata": {
    "ExecuteTime": {
     "end_time": "2021-03-08T11:25:26.179026Z",
     "start_time": "2021-03-08T11:25:25.747032Z"
    }
   },
   "outputs": [],
   "source": [
    "# num_attributes select just numbers\n",
    "# cat_attributes select just categories\n",
    "num_attributes = df1.select_dtypes(include=['int64', 'float64'])\n",
    "cat_attributes = df1.select_dtypes(exclude =['int64', 'float64', 'datetime64[ns]'])\n"
   ]
  },
  {
   "cell_type": "markdown",
   "id": "mobile-conflict",
   "metadata": {},
   "source": [
    "1.7.1 Numerical Attributes"
   ]
  },
  {
   "cell_type": "code",
   "execution_count": 63,
   "id": "painful-hughes",
   "metadata": {
    "ExecuteTime": {
     "end_time": "2021-03-08T12:03:34.089296Z",
     "start_time": "2021-03-08T12:03:27.393512Z"
    }
   },
   "outputs": [],
   "source": [
    "# Central Tendency - mean, median\n",
    "ct1 = pd.DataFrame(num_attributes.apply(np.mean)).T\n",
    "ct2 = pd.DataFrame(num_attributes.apply(np.median)).T\n",
    "# Dispersion- std, min, max, range, skew, kurtosis \n",
    "d1= pd.DataFrame(num_attributes.apply(np.std)).T\n",
    "d2= pd.DataFrame(num_attributes.apply(min)).T\n",
    "d3= pd.DataFrame(num_attributes.apply(max)).T\n",
    "d4= pd.DataFrame(num_attributes.apply(lambda x: x.max() - x.min())).T\n",
    "d5= pd.DataFrame(num_attributes.apply(lambda x: x.skew())).T\n",
    "d6= pd.DataFrame(num_attributes.apply(lambda x: x.kurtosis())).T\n",
    "# concatenate\n",
    "m = pd.concat([d2,d3,d4,ct1,ct2,d1,d5,d6]).T.reset_index()"
   ]
  },
  {
   "cell_type": "code",
   "execution_count": 65,
   "id": "isolated-explosion",
   "metadata": {
    "ExecuteTime": {
     "end_time": "2021-03-08T12:10:55.983556Z",
     "start_time": "2021-03-08T12:10:55.978444Z"
    }
   },
   "outputs": [],
   "source": [
    "m.columns=['attributes','min','max','range','averange','median','std','skew','kurtosis']"
   ]
  },
  {
   "cell_type": "code",
   "execution_count": 66,
   "id": "worst-cathedral",
   "metadata": {
    "ExecuteTime": {
     "end_time": "2021-03-08T12:11:17.150515Z",
     "start_time": "2021-03-08T12:11:17.082848Z"
    }
   },
   "outputs": [
    {
     "data": {
      "text/html": [
       "<div>\n",
       "<style scoped>\n",
       "    .dataframe tbody tr th:only-of-type {\n",
       "        vertical-align: middle;\n",
       "    }\n",
       "\n",
       "    .dataframe tbody tr th {\n",
       "        vertical-align: top;\n",
       "    }\n",
       "\n",
       "    .dataframe thead th {\n",
       "        text-align: right;\n",
       "    }\n",
       "</style>\n",
       "<table border=\"1\" class=\"dataframe\">\n",
       "  <thead>\n",
       "    <tr style=\"text-align: right;\">\n",
       "      <th></th>\n",
       "      <th>attributes</th>\n",
       "      <th>min</th>\n",
       "      <th>max</th>\n",
       "      <th>range</th>\n",
       "      <th>averange</th>\n",
       "      <th>median</th>\n",
       "      <th>std</th>\n",
       "      <th>skew</th>\n",
       "      <th>kurtosis</th>\n",
       "    </tr>\n",
       "  </thead>\n",
       "  <tbody>\n",
       "    <tr>\n",
       "      <th>0</th>\n",
       "      <td>store</td>\n",
       "      <td>1.0</td>\n",
       "      <td>1115.0</td>\n",
       "      <td>1114.0</td>\n",
       "      <td>558.429727</td>\n",
       "      <td>558.0</td>\n",
       "      <td>321.908493</td>\n",
       "      <td>-0.000955</td>\n",
       "      <td>-1.200524</td>\n",
       "    </tr>\n",
       "    <tr>\n",
       "      <th>1</th>\n",
       "      <td>day_of_week</td>\n",
       "      <td>1.0</td>\n",
       "      <td>7.0</td>\n",
       "      <td>6.0</td>\n",
       "      <td>3.998341</td>\n",
       "      <td>4.0</td>\n",
       "      <td>1.997390</td>\n",
       "      <td>0.001593</td>\n",
       "      <td>-1.246873</td>\n",
       "    </tr>\n",
       "    <tr>\n",
       "      <th>2</th>\n",
       "      <td>sales</td>\n",
       "      <td>0.0</td>\n",
       "      <td>41551.0</td>\n",
       "      <td>41551.0</td>\n",
       "      <td>5773.818972</td>\n",
       "      <td>5744.0</td>\n",
       "      <td>3849.924283</td>\n",
       "      <td>0.641460</td>\n",
       "      <td>1.778375</td>\n",
       "    </tr>\n",
       "    <tr>\n",
       "      <th>3</th>\n",
       "      <td>customers</td>\n",
       "      <td>0.0</td>\n",
       "      <td>7388.0</td>\n",
       "      <td>7388.0</td>\n",
       "      <td>633.145946</td>\n",
       "      <td>609.0</td>\n",
       "      <td>464.411506</td>\n",
       "      <td>1.598650</td>\n",
       "      <td>7.091773</td>\n",
       "    </tr>\n",
       "    <tr>\n",
       "      <th>4</th>\n",
       "      <td>open</td>\n",
       "      <td>0.0</td>\n",
       "      <td>1.0</td>\n",
       "      <td>1.0</td>\n",
       "      <td>0.830107</td>\n",
       "      <td>1.0</td>\n",
       "      <td>0.375539</td>\n",
       "      <td>-1.758045</td>\n",
       "      <td>1.090723</td>\n",
       "    </tr>\n",
       "    <tr>\n",
       "      <th>5</th>\n",
       "      <td>promo</td>\n",
       "      <td>0.0</td>\n",
       "      <td>1.0</td>\n",
       "      <td>1.0</td>\n",
       "      <td>0.381515</td>\n",
       "      <td>0.0</td>\n",
       "      <td>0.485758</td>\n",
       "      <td>0.487838</td>\n",
       "      <td>-1.762018</td>\n",
       "    </tr>\n",
       "    <tr>\n",
       "      <th>6</th>\n",
       "      <td>school_holiday</td>\n",
       "      <td>0.0</td>\n",
       "      <td>1.0</td>\n",
       "      <td>1.0</td>\n",
       "      <td>0.178647</td>\n",
       "      <td>0.0</td>\n",
       "      <td>0.383056</td>\n",
       "      <td>1.677842</td>\n",
       "      <td>0.815154</td>\n",
       "    </tr>\n",
       "    <tr>\n",
       "      <th>7</th>\n",
       "      <td>competition_distance</td>\n",
       "      <td>20.0</td>\n",
       "      <td>75860.0</td>\n",
       "      <td>75840.0</td>\n",
       "      <td>5441.955105</td>\n",
       "      <td>2330.0</td>\n",
       "      <td>7708.803743</td>\n",
       "      <td>2.924263</td>\n",
       "      <td>12.994788</td>\n",
       "    </tr>\n",
       "    <tr>\n",
       "      <th>8</th>\n",
       "      <td>competition_open_since_month</td>\n",
       "      <td>1.0</td>\n",
       "      <td>12.0</td>\n",
       "      <td>11.0</td>\n",
       "      <td>6.786849</td>\n",
       "      <td>7.0</td>\n",
       "      <td>3.311085</td>\n",
       "      <td>-0.042076</td>\n",
       "      <td>-1.232607</td>\n",
       "    </tr>\n",
       "    <tr>\n",
       "      <th>9</th>\n",
       "      <td>competition_open_since_year</td>\n",
       "      <td>1900.0</td>\n",
       "      <td>2015.0</td>\n",
       "      <td>115.0</td>\n",
       "      <td>2010.324840</td>\n",
       "      <td>2012.0</td>\n",
       "      <td>5.515591</td>\n",
       "      <td>-7.235657</td>\n",
       "      <td>124.071304</td>\n",
       "    </tr>\n",
       "    <tr>\n",
       "      <th>10</th>\n",
       "      <td>promo2</td>\n",
       "      <td>0.0</td>\n",
       "      <td>1.0</td>\n",
       "      <td>1.0</td>\n",
       "      <td>0.500564</td>\n",
       "      <td>1.0</td>\n",
       "      <td>0.500000</td>\n",
       "      <td>-0.002255</td>\n",
       "      <td>-1.999999</td>\n",
       "    </tr>\n",
       "    <tr>\n",
       "      <th>11</th>\n",
       "      <td>promo2_since_week</td>\n",
       "      <td>1.0</td>\n",
       "      <td>52.0</td>\n",
       "      <td>51.0</td>\n",
       "      <td>23.619033</td>\n",
       "      <td>22.0</td>\n",
       "      <td>14.310057</td>\n",
       "      <td>0.178723</td>\n",
       "      <td>-1.184046</td>\n",
       "    </tr>\n",
       "    <tr>\n",
       "      <th>12</th>\n",
       "      <td>promo2_since_year</td>\n",
       "      <td>2009.0</td>\n",
       "      <td>2015.0</td>\n",
       "      <td>6.0</td>\n",
       "      <td>2012.793297</td>\n",
       "      <td>2013.0</td>\n",
       "      <td>1.662657</td>\n",
       "      <td>-0.784436</td>\n",
       "      <td>-0.210075</td>\n",
       "    </tr>\n",
       "    <tr>\n",
       "      <th>13</th>\n",
       "      <td>is_promo</td>\n",
       "      <td>0.0</td>\n",
       "      <td>1.0</td>\n",
       "      <td>1.0</td>\n",
       "      <td>0.155231</td>\n",
       "      <td>0.0</td>\n",
       "      <td>0.362124</td>\n",
       "      <td>1.904152</td>\n",
       "      <td>1.625796</td>\n",
       "    </tr>\n",
       "  </tbody>\n",
       "</table>\n",
       "</div>"
      ],
      "text/plain": [
       "                      attributes     min      max    range     averange  \\\n",
       "0                          store     1.0   1115.0   1114.0   558.429727   \n",
       "1                    day_of_week     1.0      7.0      6.0     3.998341   \n",
       "2                          sales     0.0  41551.0  41551.0  5773.818972   \n",
       "3                      customers     0.0   7388.0   7388.0   633.145946   \n",
       "4                           open     0.0      1.0      1.0     0.830107   \n",
       "5                          promo     0.0      1.0      1.0     0.381515   \n",
       "6                 school_holiday     0.0      1.0      1.0     0.178647   \n",
       "7           competition_distance    20.0  75860.0  75840.0  5441.955105   \n",
       "8   competition_open_since_month     1.0     12.0     11.0     6.786849   \n",
       "9    competition_open_since_year  1900.0   2015.0    115.0  2010.324840   \n",
       "10                        promo2     0.0      1.0      1.0     0.500564   \n",
       "11             promo2_since_week     1.0     52.0     51.0    23.619033   \n",
       "12             promo2_since_year  2009.0   2015.0      6.0  2012.793297   \n",
       "13                      is_promo     0.0      1.0      1.0     0.155231   \n",
       "\n",
       "    median          std      skew    kurtosis  \n",
       "0    558.0   321.908493 -0.000955   -1.200524  \n",
       "1      4.0     1.997390  0.001593   -1.246873  \n",
       "2   5744.0  3849.924283  0.641460    1.778375  \n",
       "3    609.0   464.411506  1.598650    7.091773  \n",
       "4      1.0     0.375539 -1.758045    1.090723  \n",
       "5      0.0     0.485758  0.487838   -1.762018  \n",
       "6      0.0     0.383056  1.677842    0.815154  \n",
       "7   2330.0  7708.803743  2.924263   12.994788  \n",
       "8      7.0     3.311085 -0.042076   -1.232607  \n",
       "9   2012.0     5.515591 -7.235657  124.071304  \n",
       "10     1.0     0.500000 -0.002255   -1.999999  \n",
       "11    22.0    14.310057  0.178723   -1.184046  \n",
       "12  2013.0     1.662657 -0.784436   -0.210075  \n",
       "13     0.0     0.362124  1.904152    1.625796  "
      ]
     },
     "execution_count": 66,
     "metadata": {},
     "output_type": "execute_result"
    }
   ],
   "source": [
    "m"
   ]
  },
  {
   "cell_type": "markdown",
   "id": "empty-percentage",
   "metadata": {},
   "source": [
    "1.7.2 Categorical Attributes"
   ]
  },
  {
   "cell_type": "code",
   "execution_count": 86,
   "id": "binding-breakfast",
   "metadata": {
    "ExecuteTime": {
     "end_time": "2021-03-08T16:37:52.753408Z",
     "start_time": "2021-03-08T16:37:51.233466Z"
    }
   },
   "outputs": [
    {
     "name": "stderr",
     "output_type": "stream",
     "text": [
      "/home/duka/.pyenv/versions/3.8.0/envs/DataScienceProduction/lib/python3.8/site-packages/seaborn/distributions.py:2557: FutureWarning: `distplot` is a deprecated function and will be removed in a future version. Please adapt your code to use either `displot` (a figure-level function with similar flexibility) or `histplot` (an axes-level function for histograms).\n",
      "  warnings.warn(msg, FutureWarning)\n"
     ]
    },
    {
     "data": {
      "text/plain": [
       "<AxesSubplot:xlabel='competition_distance'>"
      ]
     },
     "execution_count": 86,
     "metadata": {},
     "output_type": "execute_result"
    },
    {
     "data": {
      "image/png": "[encoded data removed]",
      "text/plain": [
       "<Figure size 1800x864 with 1 Axes>"
      ]
     },
     "metadata": {
      "needs_background": "light"
     },
     "output_type": "display_data"
    }
   ],
   "source": [
    "sns.distplot( df1['competition_distance'], kde=False )"
   ]
  },
  {
   "cell_type": "code",
   "execution_count": null,
   "id": "referenced-phrase",
   "metadata": {},
   "outputs": [],
   "source": [
    "cat_attributes.apply(lambda x:x.unique().shape[0])"
   ]
  },
  {
   "cell_type": "code",
   "execution_count": 82,
   "id": "major-basketball",
   "metadata": {
    "ExecuteTime": {
     "end_time": "2021-03-08T13:03:52.300605Z",
     "start_time": "2021-03-08T13:03:51.014645Z"
    }
   },
   "outputs": [
    {
     "data": {
      "text/plain": [
       "<AxesSubplot:xlabel='assortment', ylabel='sales'>"
      ]
     },
     "execution_count": 82,
     "metadata": {},
     "output_type": "execute_result"
    },
    {
     "data": {
      "image/png": "[encoded data removed]",
      "text/plain": [
       "<Figure size 1800x864 with 3 Axes>"
      ]
     },
     "metadata": {
      "needs_background": "light"
     },
     "output_type": "display_data"
    }
   ],
   "source": [
    "aux1 = df1[(df1['state_holiday'] != '0') & (df1['sales'] > 0)]\n",
    "plt.subplot(1,3,1)\n",
    "sns.boxplot(x='state_holiday', y='sales', data = aux1)\n",
    "plt.subplot(1,3,2)\n",
    "sns.boxplot(x='store_type', y='sales', data = aux1)\n",
    "plt.subplot(1,3,3)\n",
    "sns.boxplot(x='assortment', y='sales', data = aux1)"
   ]
  },
  {
   "cell_type": "code",
   "execution_count": null,
   "id": "early-copper",
   "metadata": {},
   "outputs": [],
   "source": []
  },
  {
   "cell_type": "code",
   "execution_count": null,
   "id": "creative-column",
   "metadata": {},
   "outputs": [],
   "source": []
  },
  {
   "cell_type": "code",
   "execution_count": null,
   "id": "radio-plasma",
   "metadata": {},
   "outputs": [],
   "source": []
  }
 ],
 "metadata": {
  "hide_input": false,
  "kernelspec": {
   "display_name": "Python 3",
   "language": "python",
   "name": "python3"
  },
  "language_info": {
   "codemirror_mode": {
    "name": "ipython",
    "version": 3
   },
   "file_extension": ".py",
   "mimetype": "text/x-python",
   "name": "python",
   "nbconvert_exporter": "python",
   "pygments_lexer": "ipython3",
   "version": "3.8.0"
  },
  "nbTranslate": {
   "displayLangs": [
    "*"
   ],
   "hotkey": "alt-t",
   "langInMainMenu": true,
   "sourceLang": "en",
   "targetLang": "fr",
   "useGoogleTranslate": true
  }
 },
 "nbformat": 4,
 "nbformat_minor": 5
}
