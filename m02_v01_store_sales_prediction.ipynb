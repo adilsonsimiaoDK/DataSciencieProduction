{
 "cells": [
  {
   "cell_type": "markdown",
   "id": "colonial-sustainability",
   "metadata": {},
   "source": [
    "0.0. IMPORTS"
   ]
  },
  {
   "cell_type": "code",
   "execution_count": 70,
   "id": "pointed-ceiling",
   "metadata": {
    "ExecuteTime": {
     "end_time": "2021-03-07T17:59:28.161557Z",
     "start_time": "2021-03-07T17:59:28.155552Z"
    },
    "hide_input": false
   },
   "outputs": [],
   "source": [
    "import pandas as pd\n",
    "import inflection\n",
    "import numpy as pn\n",
    "import math\n",
    "import datetime"
   ]
  },
  {
   "cell_type": "markdown",
   "id": "convenient-monitor",
   "metadata": {
    "lang": "en"
   },
   "source": [
    "0.2 Loading Data"
   ]
  },
  {
   "cell_type": "code",
   "execution_count": 71,
   "id": "spatial-galaxy",
   "metadata": {
    "ExecuteTime": {
     "end_time": "2021-03-07T17:59:30.375010Z",
     "start_time": "2021-03-07T17:59:28.167816Z"
    }
   },
   "outputs": [],
   "source": [
    "df_sales_raw = pd.read_csv('data/train.csv', low_memory=False)\n",
    "df_store_raw = pd.read_csv('data/store.csv', low_memory=False)\n",
    "# merge\n",
    "df_raw = pd.merge(df_sales_raw, df_store_raw, how='left', on='Store' )"
   ]
  },
  {
   "cell_type": "markdown",
   "id": "continuing-flour",
   "metadata": {
    "hide_input": true
   },
   "source": [
    "1.0 DATA DESCRIPTION."
   ]
  },
  {
   "cell_type": "code",
   "execution_count": 78,
   "id": "previous-protection",
   "metadata": {
    "ExecuteTime": {
     "end_time": "2021-03-07T17:59:31.942994Z",
     "start_time": "2021-03-07T17:59:31.818940Z"
    }
   },
   "outputs": [],
   "source": [
    "df1 = df_raw.copy()"
   ]
  },
  {
   "cell_type": "markdown",
   "id": "lonely-enlargement",
   "metadata": {
    "ExecuteTime": {
     "end_time": "2021-03-05T17:40:05.708403Z",
     "start_time": "2021-03-05T17:40:05.700167Z"
    }
   },
   "source": [
    "1.1 Rename columns.\n"
   ]
  },
  {
   "cell_type": "code",
   "execution_count": 79,
   "id": "absolute-richardson",
   "metadata": {
    "ExecuteTime": {
     "end_time": "2021-03-07T17:59:31.967551Z",
     "start_time": "2021-03-07T17:59:31.948354Z"
    }
   },
   "outputs": [],
   "source": [
    "cols_old = ['Store', 'DayOfWeek', 'Date', 'Sales','Customers','Open', 'Promo','StateHoliday','SchoolHoliday',\n",
    "               'StoreType', 'Assortment','CompetitionDistance','CompetitionOpenSinceMonth','CompetitionOpenSinceYear', \n",
    "               'Promo2', 'Promo2SinceWeek','Promo2SinceYear', 'PromoInterval']\n",
    "snackecase = lambda x: inflection.underscore(x)\n",
    "cols_new =list(map(snackecase, cols_old))\n",
    "df1.columns = cols_new"
   ]
  },
  {
   "cell_type": "markdown",
   "id": "floppy-shirt",
   "metadata": {},
   "source": [
    "1.2 Data Dimensions"
   ]
  },
  {
   "cell_type": "code",
   "execution_count": 80,
   "id": "pursuant-license",
   "metadata": {
    "ExecuteTime": {
     "end_time": "2021-03-07T17:59:31.988524Z",
     "start_time": "2021-03-07T17:59:31.972283Z"
    }
   },
   "outputs": [
    {
     "name": "stdout",
     "output_type": "stream",
     "text": [
      "number of Rows: 1017209\n",
      "Number of cols: 18\n"
     ]
    }
   ],
   "source": [
    "print(f'number of Rows: {df1.shape[0]}')\n",
    "print(f'Number of cols: {df1.shape[1]}')"
   ]
  },
  {
   "cell_type": "markdown",
   "id": "lucky-preserve",
   "metadata": {},
   "source": [
    "1.3 variable date conversion"
   ]
  },
  {
   "cell_type": "code",
   "execution_count": 81,
   "id": "located-vitamin",
   "metadata": {
    "ExecuteTime": {
     "end_time": "2021-03-07T17:59:32.278786Z",
     "start_time": "2021-03-07T17:59:31.992908Z"
    }
   },
   "outputs": [],
   "source": [
    "df1['date'] = pd.to_datetime(df1['date'] )"
   ]
  },
  {
   "cell_type": "markdown",
   "id": "formal-configuration",
   "metadata": {},
   "source": [
    "1.4 Sum of NA"
   ]
  },
  {
   "cell_type": "code",
   "execution_count": 82,
   "id": "serious-format",
   "metadata": {
    "ExecuteTime": {
     "end_time": "2021-03-07T17:59:32.867273Z",
     "start_time": "2021-03-07T17:59:32.292328Z"
    }
   },
   "outputs": [
    {
     "data": {
      "text/plain": [
       "store                                0\n",
       "day_of_week                          0\n",
       "date                                 0\n",
       "sales                                0\n",
       "customers                            0\n",
       "open                                 0\n",
       "promo                                0\n",
       "state_holiday                        0\n",
       "school_holiday                       0\n",
       "store_type                           0\n",
       "assortment                           0\n",
       "competition_distance              2642\n",
       "competition_open_since_month    323348\n",
       "competition_open_since_year     323348\n",
       "promo2                               0\n",
       "promo2_since_week               508031\n",
       "promo2_since_year               508031\n",
       "promo_interval                  508031\n",
       "dtype: int64"
      ]
     },
     "execution_count": 82,
     "metadata": {},
     "output_type": "execute_result"
    }
   ],
   "source": [
    "df1.isna().sum()"
   ]
  },
  {
   "cell_type": "markdown",
   "id": "aging-ethnic",
   "metadata": {},
   "source": [
    "1.5 Fillout NA"
   ]
  },
  {
   "cell_type": "code",
   "execution_count": 83,
   "id": "exceptional-concentration",
   "metadata": {
    "ExecuteTime": {
     "end_time": "2021-03-07T18:03:35.951734Z",
     "start_time": "2021-03-07T17:59:56.223687Z"
    }
   },
   "outputs": [],
   "source": [
    "# competition_distance    \n",
    "df1.competition_distance.fillna(10000., inplace=True)\n",
    "#competition_open_since_month\n",
    "df1['competition_open_since_month'] = df1.apply( lambda x: x['date'].month if math.isnan( x['competition_open_since_month'] ) else x['competition_open_since_month'], axis=1 )\n",
    "\n",
    "#competition_open_since_year \n",
    "df1['competition_open_since_year'] = df1.apply( lambda x: x['date'].year if math.isnan( x['competition_open_since_year'] ) else x['competition_open_since_year'], axis=1 )\n",
    "\n",
    "#promo2_since_week           \n",
    "df1['promo2_since_week'] = df1.apply( lambda x: x['date'].week if math.isnan( x['promo2_since_week'] ) else x['promo2_since_week'], axis=1 )\n",
    "\n",
    "#promo2_since_year           \n",
    "df1['promo2_since_year'] = df1.apply( lambda x: x['date'].year if math.isnan( x['promo2_since_year'] ) else x['promo2_since_year'], axis=1 )\n",
    "\n",
    "#promo_interval              \n",
    "month_map = {1: 'Jan',  2: 'Fev',  3: 'Mar',  4: 'Apr',  5: 'May',  6: 'Jun',  7: 'Jul',  8: 'Aug',  9: 'Sep',  10: 'Oct', 11: 'Nov', 12: 'Dec'}\n",
    "\n",
    "df1['promo_interval'].fillna(0, inplace=True )\n",
    "\n",
    "df1['month_map'] = df1['date'].dt.month.map( month_map )\n",
    "\n",
    "df1['is_promo'] = df1[['promo_interval', 'month_map']].apply( lambda x: 0 if x['promo_interval'] == 0 else 1 if x['month_map'] in x['promo_interval'].split( ',' ) else 0, axis=1 )\n"
   ]
  },
  {
   "cell_type": "code",
   "execution_count": 69,
   "id": "bigger-terrorism",
   "metadata": {
    "ExecuteTime": {
     "end_time": "2021-03-07T17:59:28.150270Z",
     "start_time": "2021-03-07T17:59:28.013966Z"
    }
   },
   "outputs": [
    {
     "data": {
      "text/html": [
       "<div>\n",
       "<style scoped>\n",
       "    .dataframe tbody tr th:only-of-type {\n",
       "        vertical-align: middle;\n",
       "    }\n",
       "\n",
       "    .dataframe tbody tr th {\n",
       "        vertical-align: top;\n",
       "    }\n",
       "\n",
       "    .dataframe thead th {\n",
       "        text-align: right;\n",
       "    }\n",
       "</style>\n",
       "<table border=\"1\" class=\"dataframe\">\n",
       "  <thead>\n",
       "    <tr style=\"text-align: right;\">\n",
       "      <th></th>\n",
       "      <th>741581</th>\n",
       "    </tr>\n",
       "  </thead>\n",
       "  <tbody>\n",
       "    <tr>\n",
       "      <th>store</th>\n",
       "      <td>892</td>\n",
       "    </tr>\n",
       "    <tr>\n",
       "      <th>day_of_week</th>\n",
       "      <td>4</td>\n",
       "    </tr>\n",
       "    <tr>\n",
       "      <th>date</th>\n",
       "      <td>2013-09-05 00:00:00</td>\n",
       "    </tr>\n",
       "    <tr>\n",
       "      <th>sales</th>\n",
       "      <td>5983</td>\n",
       "    </tr>\n",
       "    <tr>\n",
       "      <th>customers</th>\n",
       "      <td>724</td>\n",
       "    </tr>\n",
       "    <tr>\n",
       "      <th>open</th>\n",
       "      <td>1</td>\n",
       "    </tr>\n",
       "    <tr>\n",
       "      <th>promo</th>\n",
       "      <td>0</td>\n",
       "    </tr>\n",
       "    <tr>\n",
       "      <th>state_holiday</th>\n",
       "      <td>0</td>\n",
       "    </tr>\n",
       "    <tr>\n",
       "      <th>school_holiday</th>\n",
       "      <td>0</td>\n",
       "    </tr>\n",
       "    <tr>\n",
       "      <th>store_type</th>\n",
       "      <td>a</td>\n",
       "    </tr>\n",
       "    <tr>\n",
       "      <th>assortment</th>\n",
       "      <td>a</td>\n",
       "    </tr>\n",
       "    <tr>\n",
       "      <th>competition_distance</th>\n",
       "      <td>19370.0</td>\n",
       "    </tr>\n",
       "    <tr>\n",
       "      <th>competition_open_since_month</th>\n",
       "      <td>4.0</td>\n",
       "    </tr>\n",
       "    <tr>\n",
       "      <th>competition_open_since_year</th>\n",
       "      <td>2002.0</td>\n",
       "    </tr>\n",
       "    <tr>\n",
       "      <th>promo2</th>\n",
       "      <td>0</td>\n",
       "    </tr>\n",
       "    <tr>\n",
       "      <th>promo2_since_week</th>\n",
       "      <td>36.0</td>\n",
       "    </tr>\n",
       "    <tr>\n",
       "      <th>promo2_since_year</th>\n",
       "      <td>2013.0</td>\n",
       "    </tr>\n",
       "    <tr>\n",
       "      <th>promo_interval</th>\n",
       "      <td>0</td>\n",
       "    </tr>\n",
       "    <tr>\n",
       "      <th>month_map</th>\n",
       "      <td>Sep</td>\n",
       "    </tr>\n",
       "    <tr>\n",
       "      <th>is_promo</th>\n",
       "      <td>0</td>\n",
       "    </tr>\n",
       "  </tbody>\n",
       "</table>\n",
       "</div>"
      ],
      "text/plain": [
       "                                           741581\n",
       "store                                         892\n",
       "day_of_week                                     4\n",
       "date                          2013-09-05 00:00:00\n",
       "sales                                        5983\n",
       "customers                                     724\n",
       "open                                            1\n",
       "promo                                           0\n",
       "state_holiday                                   0\n",
       "school_holiday                                  0\n",
       "store_type                                      a\n",
       "assortment                                      a\n",
       "competition_distance                      19370.0\n",
       "competition_open_since_month                  4.0\n",
       "competition_open_since_year                2002.0\n",
       "promo2                                          0\n",
       "promo2_since_week                            36.0\n",
       "promo2_since_year                          2013.0\n",
       "promo_interval                                  0\n",
       "month_map                                     Sep\n",
       "is_promo                                        0"
      ]
     },
     "execution_count": 69,
     "metadata": {},
     "output_type": "execute_result"
    }
   ],
   "source": [
    "df1.sample(1).T"
   ]
  },
  {
   "cell_type": "code",
   "execution_count": 84,
   "id": "rocky-space",
   "metadata": {
    "ExecuteTime": {
     "end_time": "2021-03-07T18:03:36.634597Z",
     "start_time": "2021-03-07T18:03:35.955878Z"
    }
   },
   "outputs": [
    {
     "data": {
      "text/plain": [
       "store                           0\n",
       "day_of_week                     0\n",
       "date                            0\n",
       "sales                           0\n",
       "customers                       0\n",
       "open                            0\n",
       "promo                           0\n",
       "state_holiday                   0\n",
       "school_holiday                  0\n",
       "store_type                      0\n",
       "assortment                      0\n",
       "competition_distance            0\n",
       "competition_open_since_month    0\n",
       "competition_open_since_year     0\n",
       "promo2                          0\n",
       "promo2_since_week               0\n",
       "promo2_since_year               0\n",
       "promo_interval                  0\n",
       "month_map                       0\n",
       "is_promo                        0\n",
       "dtype: int64"
      ]
     },
     "execution_count": 84,
     "metadata": {},
     "output_type": "execute_result"
    }
   ],
   "source": [
    "df1.isna().sum()"
   ]
  },
  {
   "cell_type": "code",
   "execution_count": null,
   "id": "medium-austria",
   "metadata": {},
   "outputs": [],
   "source": []
  }
 ],
 "metadata": {
  "hide_input": false,
  "kernelspec": {
   "display_name": "Python 3",
   "language": "python",
   "name": "python3"
  },
  "language_info": {
   "codemirror_mode": {
    "name": "ipython",
    "version": 3
   },
   "file_extension": ".py",
   "mimetype": "text/x-python",
   "name": "python",
   "nbconvert_exporter": "python",
   "pygments_lexer": "ipython3",
   "version": "3.8.0"
  },
  "nbTranslate": {
   "displayLangs": [
    "*"
   ],
   "hotkey": "alt-t",
   "langInMainMenu": true,
   "sourceLang": "en",
   "targetLang": "fr",
   "useGoogleTranslate": true
  }
 },
 "nbformat": 4,
 "nbformat_minor": 5
}
