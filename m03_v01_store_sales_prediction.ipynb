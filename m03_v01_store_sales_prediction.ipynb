{
 "cells": [
  {
   "cell_type": "markdown",
   "id": "colonial-sustainability",
   "metadata": {},
   "source": [
    "# 0.0. IMPORTS"
   ]
  },
  {
   "cell_type": "code",
   "execution_count": 1,
   "id": "pointed-ceiling",
   "metadata": {
    "ExecuteTime": {
     "end_time": "2021-03-10T16:32:25.122498Z",
     "start_time": "2021-03-10T16:32:22.527210Z"
    },
    "hide_input": false
   },
   "outputs": [],
   "source": [
    "import pandas as pd\n",
    "import inflection\n",
    "import numpy as np\n",
    "import math\n",
    "import datetime\n",
    "import seaborn as sns\n",
    "from matplotlib import pyplot as plt\n",
    "from IPython.core.display import HTML\n",
    "from IPython.display import Image\n"
   ]
  },
  {
   "cell_type": "markdown",
   "id": "designed-accuracy",
   "metadata": {},
   "source": [
    "# 1.0 STEP 1 - DATA DESCRIPTION"
   ]
  },
  {
   "cell_type": "markdown",
   "id": "stainless-tampa",
   "metadata": {},
   "source": [
    "0.1. Helper Functions"
   ]
  },
  {
   "cell_type": "code",
   "execution_count": 2,
   "id": "demographic-privilege",
   "metadata": {
    "ExecuteTime": {
     "end_time": "2021-03-10T16:32:51.073010Z",
     "start_time": "2021-03-10T16:32:51.050049Z"
    }
   },
   "outputs": [],
   "source": [
    "def jupyter_settings():\n",
    "    %matplotlib inline\n",
    "    %pylab inline\n",
    "    \n",
    "    plt.style.use( 'bmh' )\n",
    "    plt.rcParams['figure.figsize'] = [25, 12]\n",
    "    plt.rcParams['font.size'] = 24\n",
    "    \n",
    "    display( HTML( '<style>.container { width:100% !important; }</style>') )\n",
    "    pd.options.display.max_columns = None\n",
    "    pd.options.display.max_rows = None\n",
    "    pd.set_option( 'display.expand_frame_repr', False )\n",
    "    \n",
    "    sns.set()"
   ]
  },
  {
   "cell_type": "code",
   "execution_count": 3,
   "id": "dependent-evans",
   "metadata": {
    "ExecuteTime": {
     "end_time": "2021-03-10T16:33:00.426786Z",
     "start_time": "2021-03-10T16:33:00.398696Z"
    }
   },
   "outputs": [
    {
     "name": "stdout",
     "output_type": "stream",
     "text": [
      "Populating the interactive namespace from numpy and matplotlib\n"
     ]
    },
    {
     "data": {
      "text/html": [
       "<style>.container { width:100% !important; }</style>"
      ],
      "text/plain": [
       "<IPython.core.display.HTML object>"
      ]
     },
     "metadata": {},
     "output_type": "display_data"
    }
   ],
   "source": [
    "jupyter_settings()"
   ]
  },
  {
   "cell_type": "markdown",
   "id": "convenient-monitor",
   "metadata": {
    "lang": "en"
   },
   "source": [
    "0.2 Loading Data"
   ]
  },
  {
   "cell_type": "code",
   "execution_count": 4,
   "id": "spatial-galaxy",
   "metadata": {
    "ExecuteTime": {
     "end_time": "2021-03-10T16:33:09.658468Z",
     "start_time": "2021-03-10T16:33:06.900929Z"
    }
   },
   "outputs": [],
   "source": [
    "df_sales_raw = pd.read_csv('data/train.csv', low_memory=False)\n",
    "df_store_raw = pd.read_csv('data/store.csv', low_memory=False)\n",
    "# merge\n",
    "df_raw = pd.merge(df_sales_raw, df_store_raw, how='left', on='Store' )"
   ]
  },
  {
   "cell_type": "markdown",
   "id": "continuing-flour",
   "metadata": {
    "hide_input": true
   },
   "source": [
    "1.0 DATA DESCRIPTION."
   ]
  },
  {
   "cell_type": "code",
   "execution_count": 5,
   "id": "previous-protection",
   "metadata": {
    "ExecuteTime": {
     "end_time": "2021-03-10T16:33:11.648720Z",
     "start_time": "2021-03-10T16:33:11.418668Z"
    }
   },
   "outputs": [],
   "source": [
    "df1 = df_raw.copy()"
   ]
  },
  {
   "cell_type": "markdown",
   "id": "lonely-enlargement",
   "metadata": {
    "ExecuteTime": {
     "end_time": "2021-03-05T17:40:05.708403Z",
     "start_time": "2021-03-05T17:40:05.700167Z"
    }
   },
   "source": [
    "1.1 Rename columns.\n"
   ]
  },
  {
   "cell_type": "code",
   "execution_count": 6,
   "id": "absolute-richardson",
   "metadata": {
    "ExecuteTime": {
     "end_time": "2021-03-10T16:33:15.581634Z",
     "start_time": "2021-03-10T16:33:15.568163Z"
    }
   },
   "outputs": [],
   "source": [
    "cols_old = ['Store', 'DayOfWeek', 'Date', 'Sales','Customers','Open', 'Promo','StateHoliday','SchoolHoliday',\n",
    "               'StoreType', 'Assortment','CompetitionDistance','CompetitionOpenSinceMonth','CompetitionOpenSinceYear', \n",
    "               'Promo2', 'Promo2SinceWeek','Promo2SinceYear', 'PromoInterval']\n",
    "snackecase = lambda x: inflection.underscore(x)\n",
    "cols_new =list(map(snackecase, cols_old))\n",
    "df1.columns = cols_new"
   ]
  },
  {
   "cell_type": "markdown",
   "id": "floppy-shirt",
   "metadata": {},
   "source": [
    "1.2 Data Dimensions"
   ]
  },
  {
   "cell_type": "code",
   "execution_count": 7,
   "id": "pursuant-license",
   "metadata": {
    "ExecuteTime": {
     "end_time": "2021-03-10T16:33:20.568784Z",
     "start_time": "2021-03-10T16:33:20.561923Z"
    }
   },
   "outputs": [
    {
     "name": "stdout",
     "output_type": "stream",
     "text": [
      "number of Rows: 1017209\n",
      "Number of cols: 18\n"
     ]
    }
   ],
   "source": [
    "print(f'number of Rows: {df1.shape[0]}')\n",
    "print(f'Number of cols: {df1.shape[1]}')"
   ]
  },
  {
   "cell_type": "markdown",
   "id": "lucky-preserve",
   "metadata": {},
   "source": [
    "1.3 variable date conversion"
   ]
  },
  {
   "cell_type": "code",
   "execution_count": 8,
   "id": "located-vitamin",
   "metadata": {
    "ExecuteTime": {
     "end_time": "2021-03-10T16:33:25.786431Z",
     "start_time": "2021-03-10T16:33:25.411329Z"
    }
   },
   "outputs": [],
   "source": [
    "df1['date'] = pd.to_datetime(df1['date'] )"
   ]
  },
  {
   "cell_type": "markdown",
   "id": "formal-configuration",
   "metadata": {},
   "source": [
    "1.4 Sum of NA"
   ]
  },
  {
   "cell_type": "code",
   "execution_count": 9,
   "id": "serious-format",
   "metadata": {
    "ExecuteTime": {
     "end_time": "2021-03-10T14:36:10.234099Z",
     "start_time": "2021-03-10T14:36:09.722117Z"
    }
   },
   "outputs": [
    {
     "data": {
      "text/plain": [
       "store                                0\n",
       "day_of_week                          0\n",
       "date                                 0\n",
       "sales                                0\n",
       "customers                            0\n",
       "open                                 0\n",
       "promo                                0\n",
       "state_holiday                        0\n",
       "school_holiday                       0\n",
       "store_type                           0\n",
       "assortment                           0\n",
       "competition_distance              2642\n",
       "competition_open_since_month    323348\n",
       "competition_open_since_year     323348\n",
       "promo2                               0\n",
       "promo2_since_week               508031\n",
       "promo2_since_year               508031\n",
       "promo_interval                  508031\n",
       "dtype: int64"
      ]
     },
     "execution_count": 9,
     "metadata": {},
     "output_type": "execute_result"
    }
   ],
   "source": [
    "df1.isna().sum()"
   ]
  },
  {
   "cell_type": "markdown",
   "id": "weighted-expense",
   "metadata": {},
   "source": [
    "1.5 Fillout NA"
   ]
  },
  {
   "cell_type": "code",
   "execution_count": 42,
   "id": "paperback-recipe",
   "metadata": {
    "ExecuteTime": {
     "end_time": "2021-03-08T10:52:58.038063Z",
     "start_time": "2021-03-08T10:52:58.034228Z"
    }
   },
   "outputs": [],
   "source": [
    "# Code better than under! \n",
    "# date_open = df1.date\n",
    "# df1.competition_open_since_month.fillna(df1.date, inplace=True)\n",
    "# df1.competition_open_since_year.fillna(df1.date.dt.year, inplace=True)\n",
    "# df1['is_promo'] = datedf1.date.dt.strftime(\"%b\")\n",
    "# print(df1.competition_open_since_month)"
   ]
  },
  {
   "cell_type": "code",
   "execution_count": 9,
   "id": "exceptional-concentration",
   "metadata": {
    "ExecuteTime": {
     "end_time": "2021-03-10T16:37:26.403467Z",
     "start_time": "2021-03-10T16:33:36.833162Z"
    }
   },
   "outputs": [],
   "source": [
    "# competition_distance    \n",
    "df1.competition_distance.fillna(10000., inplace=True)\n",
    "#competition_open_since_month\n",
    "df1['competition_open_since_month'] = df1.apply( lambda x: x['date'].month if math.isnan( x['competition_open_since_month'] ) else x['competition_open_since_month'], axis=1 )\n",
    "\n",
    "#competition_open_since_year \n",
    "df1['competition_open_since_year'] = df1.apply( lambda x: x['date'].year if math.isnan( x['competition_open_since_year'] ) else x['competition_open_since_year'], axis=1 )\n",
    "\n",
    "#promo2_since_week           \n",
    "df1['promo2_since_week'] = df1.apply( lambda x: x['date'].week if math.isnan( x['promo2_since_week'] ) else x['promo2_since_week'], axis=1 )\n",
    "\n",
    "#promo2_since_year           \n",
    "df1['promo2_since_year'] = df1.apply( lambda x: x['date'].year if math.isnan( x['promo2_since_year'] ) else x['promo2_since_year'], axis=1 )\n",
    "\n",
    "#promo_interval              \n",
    "month_map = {1: 'Jan',  2: 'Fev',  3: 'Mar',  4: 'Apr',  5: 'May',  6: 'Jun',  7: 'Jul',  8: 'Aug',  9: 'Sep',  10: 'Oct', 11: 'Nov', 12: 'Dec'}\n",
    "\n",
    "df1['promo_interval'].fillna(0, inplace=True )\n",
    "\n",
    "df1['month_map'] = df1['date'].dt.month.map( month_map )\n",
    "\n",
    "df1['is_promo'] = df1[['promo_interval', 'month_map']].apply( lambda x: 0 if x['promo_interval'] == 0 else 1 if x['month_map'] in x['promo_interval'].split( ',' ) else 0, axis=1 )\n"
   ]
  },
  {
   "cell_type": "code",
   "execution_count": 50,
   "id": "bigger-terrorism",
   "metadata": {
    "ExecuteTime": {
     "end_time": "2021-03-08T10:59:47.151711Z",
     "start_time": "2021-03-08T10:59:46.420762Z"
    }
   },
   "outputs": [
    {
     "data": {
      "text/html": [
       "<div>\n",
       "<style scoped>\n",
       "    .dataframe tbody tr th:only-of-type {\n",
       "        vertical-align: middle;\n",
       "    }\n",
       "\n",
       "    .dataframe tbody tr th {\n",
       "        vertical-align: top;\n",
       "    }\n",
       "\n",
       "    .dataframe thead th {\n",
       "        text-align: right;\n",
       "    }\n",
       "</style>\n",
       "<table border=\"1\" class=\"dataframe\">\n",
       "  <thead>\n",
       "    <tr style=\"text-align: right;\">\n",
       "      <th></th>\n",
       "      <th>91791</th>\n",
       "    </tr>\n",
       "  </thead>\n",
       "  <tbody>\n",
       "    <tr>\n",
       "      <th>store</th>\n",
       "      <td>362</td>\n",
       "    </tr>\n",
       "    <tr>\n",
       "      <th>day_of_week</th>\n",
       "      <td>7</td>\n",
       "    </tr>\n",
       "    <tr>\n",
       "      <th>date</th>\n",
       "      <td>2015-05-10 00:00:00</td>\n",
       "    </tr>\n",
       "    <tr>\n",
       "      <th>sales</th>\n",
       "      <td>0</td>\n",
       "    </tr>\n",
       "    <tr>\n",
       "      <th>customers</th>\n",
       "      <td>0</td>\n",
       "    </tr>\n",
       "    <tr>\n",
       "      <th>open</th>\n",
       "      <td>0</td>\n",
       "    </tr>\n",
       "    <tr>\n",
       "      <th>promo</th>\n",
       "      <td>0</td>\n",
       "    </tr>\n",
       "    <tr>\n",
       "      <th>state_holiday</th>\n",
       "      <td>0</td>\n",
       "    </tr>\n",
       "    <tr>\n",
       "      <th>school_holiday</th>\n",
       "      <td>0</td>\n",
       "    </tr>\n",
       "    <tr>\n",
       "      <th>store_type</th>\n",
       "      <td>c</td>\n",
       "    </tr>\n",
       "    <tr>\n",
       "      <th>assortment</th>\n",
       "      <td>c</td>\n",
       "    </tr>\n",
       "    <tr>\n",
       "      <th>competition_distance</th>\n",
       "      <td>340.0</td>\n",
       "    </tr>\n",
       "    <tr>\n",
       "      <th>competition_open_since_month</th>\n",
       "      <td>5.0</td>\n",
       "    </tr>\n",
       "    <tr>\n",
       "      <th>competition_open_since_year</th>\n",
       "      <td>2015.0</td>\n",
       "    </tr>\n",
       "    <tr>\n",
       "      <th>promo2</th>\n",
       "      <td>0</td>\n",
       "    </tr>\n",
       "    <tr>\n",
       "      <th>promo2_since_week</th>\n",
       "      <td>19.0</td>\n",
       "    </tr>\n",
       "    <tr>\n",
       "      <th>promo2_since_year</th>\n",
       "      <td>2015.0</td>\n",
       "    </tr>\n",
       "    <tr>\n",
       "      <th>promo_interval</th>\n",
       "      <td>0</td>\n",
       "    </tr>\n",
       "    <tr>\n",
       "      <th>month_map</th>\n",
       "      <td>May</td>\n",
       "    </tr>\n",
       "    <tr>\n",
       "      <th>is_promo</th>\n",
       "      <td>0</td>\n",
       "    </tr>\n",
       "  </tbody>\n",
       "</table>\n",
       "</div>"
      ],
      "text/plain": [
       "                                            91791\n",
       "store                                         362\n",
       "day_of_week                                     7\n",
       "date                          2015-05-10 00:00:00\n",
       "sales                                           0\n",
       "customers                                       0\n",
       "open                                            0\n",
       "promo                                           0\n",
       "state_holiday                                   0\n",
       "school_holiday                                  0\n",
       "store_type                                      c\n",
       "assortment                                      c\n",
       "competition_distance                        340.0\n",
       "competition_open_since_month                  5.0\n",
       "competition_open_since_year                2015.0\n",
       "promo2                                          0\n",
       "promo2_since_week                            19.0\n",
       "promo2_since_year                          2015.0\n",
       "promo_interval                                  0\n",
       "month_map                                     May\n",
       "is_promo                                        0"
      ]
     },
     "execution_count": 50,
     "metadata": {},
     "output_type": "execute_result"
    }
   ],
   "source": [
    "df1.sample(1).T"
   ]
  },
  {
   "cell_type": "markdown",
   "id": "lightweight-nightlife",
   "metadata": {},
   "source": [
    "1.6. Change Types:"
   ]
  },
  {
   "cell_type": "code",
   "execution_count": 11,
   "id": "cultural-grounds",
   "metadata": {
    "ExecuteTime": {
     "end_time": "2021-03-10T14:40:47.100988Z",
     "start_time": "2021-03-10T14:40:47.086119Z"
    }
   },
   "outputs": [
    {
     "data": {
      "text/plain": [
       "store                                    int64\n",
       "day_of_week                              int64\n",
       "date                            datetime64[ns]\n",
       "sales                                    int64\n",
       "customers                                int64\n",
       "open                                     int64\n",
       "promo                                    int64\n",
       "state_holiday                           object\n",
       "school_holiday                           int64\n",
       "store_type                              object\n",
       "assortment                              object\n",
       "competition_distance                   float64\n",
       "competition_open_since_month           float64\n",
       "competition_open_since_year            float64\n",
       "promo2                                   int64\n",
       "promo2_since_week                      float64\n",
       "promo2_since_year                      float64\n",
       "promo_interval                          object\n",
       "month_map                               object\n",
       "is_promo                                 int64\n",
       "dtype: object"
      ]
     },
     "execution_count": 11,
     "metadata": {},
     "output_type": "execute_result"
    }
   ],
   "source": [
    "df1.dtypes"
   ]
  },
  {
   "cell_type": "code",
   "execution_count": 10,
   "id": "hollywood-success",
   "metadata": {
    "ExecuteTime": {
     "end_time": "2021-03-10T16:38:37.291259Z",
     "start_time": "2021-03-10T16:38:37.233210Z"
    }
   },
   "outputs": [],
   "source": [
    "df1.competition_open_since_month = df1.competition_open_since_month.astype(int)\n",
    "df1.competition_open_since_year = df1.competition_open_since_year.astype(int)\n",
    "df1.promo2_since_week = df1.promo2_since_week.astype(int)\n",
    "df1.promo2_since_year = df1.promo2_since_year.astype(int)"
   ]
  },
  {
   "cell_type": "markdown",
   "id": "skilled-purchase",
   "metadata": {},
   "source": [
    "1.7 Descriptive Statiscal"
   ]
  },
  {
   "cell_type": "code",
   "execution_count": 11,
   "id": "embedded-advance",
   "metadata": {
    "ExecuteTime": {
     "end_time": "2021-03-10T16:38:47.502034Z",
     "start_time": "2021-03-10T16:38:47.044659Z"
    }
   },
   "outputs": [],
   "source": [
    "# num_attributes select just numbers\n",
    "# cat_attributes select just categories\n",
    "num_attributes = df1.select_dtypes(include=['int64', 'float64'])\n",
    "cat_attributes = df1.select_dtypes(exclude =['int64', 'float64', 'datetime64[ns]'])\n"
   ]
  },
  {
   "cell_type": "markdown",
   "id": "mobile-conflict",
   "metadata": {},
   "source": [
    "1.7.1 Numerical Attributes"
   ]
  },
  {
   "cell_type": "code",
   "execution_count": 12,
   "id": "painful-hughes",
   "metadata": {
    "ExecuteTime": {
     "end_time": "2021-03-10T16:38:59.958416Z",
     "start_time": "2021-03-10T16:38:52.852138Z"
    }
   },
   "outputs": [],
   "source": [
    "# Central Tendency - mean, median\n",
    "ct1 = pd.DataFrame(num_attributes.apply(np.mean)).T\n",
    "ct2 = pd.DataFrame(num_attributes.apply(np.median)).T\n",
    "# Dispersion- std, min, max, range, skew, kurtosis \n",
    "d1= pd.DataFrame(num_attributes.apply(np.std)).T\n",
    "d2= pd.DataFrame(num_attributes.apply(min)).T\n",
    "d3= pd.DataFrame(num_attributes.apply(max)).T\n",
    "d4= pd.DataFrame(num_attributes.apply(lambda x: x.max() - x.min())).T\n",
    "d5= pd.DataFrame(num_attributes.apply(lambda x: x.skew())).T\n",
    "d6= pd.DataFrame(num_attributes.apply(lambda x: x.kurtosis())).T\n",
    "# concatenate\n",
    "m = pd.concat([d2,d3,d4,ct1,ct2,d1,d5,d6]).T.reset_index()"
   ]
  },
  {
   "cell_type": "code",
   "execution_count": 13,
   "id": "isolated-explosion",
   "metadata": {
    "ExecuteTime": {
     "end_time": "2021-03-10T16:38:59.969837Z",
     "start_time": "2021-03-10T16:38:59.962427Z"
    }
   },
   "outputs": [],
   "source": [
    "m.columns=['attributes','min','max','range','averange','median','std','skew','kurtosis']"
   ]
  },
  {
   "cell_type": "code",
   "execution_count": null,
   "id": "worst-cathedral",
   "metadata": {
    "ExecuteTime": {
     "end_time": "2021-03-10T13:18:41.206501Z",
     "start_time": "2021-03-10T13:14:36.009Z"
    }
   },
   "outputs": [],
   "source": [
    "m"
   ]
  },
  {
   "cell_type": "markdown",
   "id": "empty-percentage",
   "metadata": {},
   "source": [
    "1.7.2 Categorical Attributes"
   ]
  },
  {
   "cell_type": "code",
   "execution_count": null,
   "id": "binding-breakfast",
   "metadata": {
    "ExecuteTime": {
     "end_time": "2021-03-10T13:18:41.209239Z",
     "start_time": "2021-03-10T13:14:52.227Z"
    }
   },
   "outputs": [],
   "source": [
    "# sns.distplot( df1['competition_distance'], kde=False )"
   ]
  },
  {
   "cell_type": "code",
   "execution_count": 14,
   "id": "referenced-phrase",
   "metadata": {
    "ExecuteTime": {
     "end_time": "2021-03-10T16:39:18.059646Z",
     "start_time": "2021-03-10T16:39:17.661527Z"
    }
   },
   "outputs": [
    {
     "data": {
      "text/plain": [
       "state_holiday      4\n",
       "store_type         4\n",
       "assortment         3\n",
       "promo_interval     4\n",
       "month_map         12\n",
       "dtype: int64"
      ]
     },
     "execution_count": 14,
     "metadata": {},
     "output_type": "execute_result"
    }
   ],
   "source": [
    "cat_attributes.apply(lambda x:x.unique().shape[0])"
   ]
  },
  {
   "cell_type": "code",
   "execution_count": 15,
   "id": "major-basketball",
   "metadata": {
    "ExecuteTime": {
     "end_time": "2021-03-09T08:50:33.477469Z",
     "start_time": "2021-03-09T08:50:31.005627Z"
    }
   },
   "outputs": [
    {
     "data": {
      "text/plain": [
       "<AxesSubplot:xlabel='assortment', ylabel='sales'>"
      ]
     },
     "execution_count": 15,
     "metadata": {},
     "output_type": "execute_result"
    },
    {
     "data": {
      "image/png": "[encoded data removed]",
      "text/plain": [
       "<Figure size 1800x864 with 3 Axes>"
      ]
     },
     "metadata": {},
     "output_type": "display_data"
    }
   ],
   "source": [
    "aux1 = df1[(df1['state_holiday'] != '0') & (df1['sales'] > 0)]\n",
    "plt.subplot(1,3,1)\n",
    "sns.boxplot(x='state_holiday', y='sales', data = aux1)\n",
    "plt.subplot(1,3,2)\n",
    "sns.boxplot(x='store_type', y='sales', data = aux1)\n",
    "plt.subplot(1,3,3)\n",
    "sns.boxplot(x='assortment', y='sales', data = aux1)"
   ]
  },
  {
   "cell_type": "markdown",
   "id": "golden-switch",
   "metadata": {},
   "source": [
    "# 2.0 STEP 02 FEATURE ENGINEERING"
   ]
  },
  {
   "cell_type": "code",
   "execution_count": 15,
   "id": "worth-cooper",
   "metadata": {
    "ExecuteTime": {
     "end_time": "2021-03-10T16:39:27.621666Z",
     "start_time": "2021-03-10T16:39:27.424474Z"
    }
   },
   "outputs": [],
   "source": [
    "df2 = df1.copy()\n"
   ]
  },
  {
   "cell_type": "code",
   "execution_count": 16,
   "id": "greek-copying",
   "metadata": {
    "ExecuteTime": {
     "end_time": "2021-03-10T16:39:32.358029Z",
     "start_time": "2021-03-10T16:39:32.319773Z"
    }
   },
   "outputs": [
    {
     "data": {
      "image/png": "[encoded data removed]",
      "text/plain": [
       "<IPython.core.display.Image object>"
      ]
     },
     "execution_count": 16,
     "metadata": {},
     "output_type": "execute_result"
    }
   ],
   "source": [
    "Image('img/MindMapHypothesis.png')"
   ]
  },
  {
   "cell_type": "markdown",
   "id": "attended-baking",
   "metadata": {
    "slideshow": {
     "slide_type": "slide"
    }
   },
   "source": []
  },
  {
   "cell_type": "markdown",
   "id": "closing-scale",
   "metadata": {},
   "source": [
    "## 2.1 Hypothesis Mind Map "
   ]
  },
  {
   "cell_type": "markdown",
   "id": "earned-greensboro",
   "metadata": {
    "ExecuteTime": {
     "end_time": "2021-03-10T09:58:04.453196Z",
     "start_time": "2021-03-10T09:58:04.446859Z"
    }
   },
   "source": [
    "##  2.1 Store Hypothesis"
   ]
  },
  {
   "cell_type": "markdown",
   "id": "smooth-modern",
   "metadata": {},
   "source": [
    "**1.** Should stores with large numbers of employees sell more?\n",
    "\n",
    "**2.** Should stores with bigger stock sell more?\n",
    "\n",
    "**3.** Should stores with bigger size should sell more?\n",
    "\n",
    "**4.** Should stores with smaller size sales less?\n",
    "\n",
    "**5.** Should Stores with bigger assortment sell more?"
   ]
  },
  {
   "cell_type": "markdown",
   "id": "distinguished-bennett",
   "metadata": {
    "ExecuteTime": {
     "end_time": "2021-03-10T09:59:09.762170Z",
     "start_time": "2021-03-10T09:59:09.758062Z"
    }
   },
   "source": [
    "## 2.2 Product Hypothesis"
   ]
  },
  {
   "cell_type": "markdown",
   "id": "flush-letter",
   "metadata": {},
   "source": [
    "**1.** Should stores that invest more in marketing sell more?\n",
    "\n",
    "**2.** Should stores that show more the products sell more?\n",
    "\n",
    "**3.** Should stores that has small price sell more?\n",
    "\n",
    "**4.** Should stores that has small price for long time sell more?"
   ]
  },
  {
   "cell_type": "markdown",
   "id": "mechanical-incidence",
   "metadata": {},
   "source": [
    "## 2.1.3  Time Hypothesis"
   ]
  },
  {
   "cell_type": "markdown",
   "id": "automotive-modem",
   "metadata": {},
   "source": [
    "**1.** Should store that doesn't work at holydays sell less.\n",
    "\n",
    "**2.** Should store that start at 6 month sell more.\n",
    "\n",
    "**3.** Should store that works at holydays sell more.\n",
    "\n",
    "**4.** Should store that has more promotion sell more."
   ]
  },
  {
   "cell_type": "markdown",
   "id": "single-exclusion",
   "metadata": {},
   "source": [
    "## 2.3 Hyposthesis Final list"
   ]
  },
  {
   "cell_type": "markdown",
   "id": "anticipated-terror",
   "metadata": {},
   "source": [
    "**1.** Should Stores with bigger assortment sell more?\n",
    "\n",
    "**2.** Should store that doesn't work at holydays sell less.\n",
    "\n",
    "**3.** Should store that start at 6 month sell more.\n",
    "\n",
    "**4.** Should store that works at holydays sell more.\n",
    "\n",
    "**5.** Should store that has more promotion sell more.\n",
    "\n",
    "**1.** Should store that work at Maryc sell less.\n",
    "\n",
    "**2.** Should store that has more sellers sell more.\n",
    "\n",
    "**3.** Should store that works at Christmas sell more.\n",
    "\n",
    "**4.** Should store that has more promotion sell more."
   ]
  },
  {
   "cell_type": "markdown",
   "id": "sharp-jumping",
   "metadata": {},
   "source": [
    "## 2.4 Feature Engineering"
   ]
  },
  {
   "cell_type": "code",
   "execution_count": 18,
   "id": "infectious-breach",
   "metadata": {
    "ExecuteTime": {
     "end_time": "2021-03-10T16:49:37.479082Z",
     "start_time": "2021-03-10T16:46:15.914189Z"
    }
   },
   "outputs": [
    {
     "name": "stderr",
     "output_type": "stream",
     "text": [
      "<ipython-input-18-dbc2582c901c>:11: FutureWarning: Series.dt.weekofyear and Series.dt.week have been deprecated.  Please use Series.dt.isocalendar().week instead.\n",
      "  df2['week_of_year'] = df2['date'].dt.weekofyear\n"
     ]
    }
   ],
   "source": [
    "# year\n",
    "df2['year'] = df2['date'].dt.year\n",
    "\n",
    "# month\n",
    "df2['month'] = df2['date'].dt.month\n",
    "\n",
    "# day\n",
    "df2['day'] = df2['date'].dt.day\n",
    "\n",
    "# week of year\n",
    "df2['week_of_year'] = df2['date'].dt.weekofyear\n",
    "\n",
    "# year week\n",
    "df2['year_week'] = df2['date'].dt.strftime('%Y-%W')\n",
    "\n",
    "# competition since\n",
    "df2['competition_since'] = df2.apply( lambda x: datetime.datetime( year=x['competition_open_since_year'], month=x['competition_open_since_month'],day=1 ), axis=1 )\n",
    "df2['competition_time_month'] = ( ( df2['date'] - df2['competition_since'] )/30 ).apply( lambda x: x.days ).astype( int )\n",
    "\n",
    "# promo since\n",
    "df2['promo_since'] = df2['promo2_since_year'].astype( str ) + '-' + df2['promo2_since_week'].astype( str )\n",
    "df2['promo_since'] = df2['promo_since'].apply( lambda x: datetime.datetime.strptime( x + '-1', '%Y-%W-%w' ) - datetime.timedelta( days=7 ) )\n",
    "df2['promo_time_week'] = ( ( df2['date'] - df2['promo_since'] )/7 ).apply( lambda x: x.days ).astype( int )\n",
    "\n",
    "# assortment\n",
    "df2['assortment'] = df2['assortment'].apply( lambda x: 'basic' if x == 'a' else 'extra' if x == 'b' else 'extended' )\n",
    "\n",
    "# state holiday\n",
    "df2['state_holiday'] = df2['state_holiday'].apply( lambda x: 'public_holiday' if x == 'a' else 'easter_holiday' if x == 'b' else 'christmas' if x == 'c' else 'regular_day' )"
   ]
  },
  {
   "cell_type": "code",
   "execution_count": 19,
   "id": "executive-great",
   "metadata": {
    "ExecuteTime": {
     "end_time": "2021-03-10T16:49:54.455809Z",
     "start_time": "2021-03-10T16:49:54.385098Z"
    }
   },
   "outputs": [
    {
     "data": {
      "text/html": [
       "<div>\n",
       "<style scoped>\n",
       "    .dataframe tbody tr th:only-of-type {\n",
       "        vertical-align: middle;\n",
       "    }\n",
       "\n",
       "    .dataframe tbody tr th {\n",
       "        vertical-align: top;\n",
       "    }\n",
       "\n",
       "    .dataframe thead th {\n",
       "        text-align: right;\n",
       "    }\n",
       "</style>\n",
       "<table border=\"1\" class=\"dataframe\">\n",
       "  <thead>\n",
       "    <tr style=\"text-align: right;\">\n",
       "      <th></th>\n",
       "      <th>0</th>\n",
       "      <th>1</th>\n",
       "      <th>2</th>\n",
       "      <th>3</th>\n",
       "      <th>4</th>\n",
       "    </tr>\n",
       "  </thead>\n",
       "  <tbody>\n",
       "    <tr>\n",
       "      <th>store</th>\n",
       "      <td>1</td>\n",
       "      <td>2</td>\n",
       "      <td>3</td>\n",
       "      <td>4</td>\n",
       "      <td>5</td>\n",
       "    </tr>\n",
       "    <tr>\n",
       "      <th>day_of_week</th>\n",
       "      <td>5</td>\n",
       "      <td>5</td>\n",
       "      <td>5</td>\n",
       "      <td>5</td>\n",
       "      <td>5</td>\n",
       "    </tr>\n",
       "    <tr>\n",
       "      <th>date</th>\n",
       "      <td>2015-07-31 00:00:00</td>\n",
       "      <td>2015-07-31 00:00:00</td>\n",
       "      <td>2015-07-31 00:00:00</td>\n",
       "      <td>2015-07-31 00:00:00</td>\n",
       "      <td>2015-07-31 00:00:00</td>\n",
       "    </tr>\n",
       "    <tr>\n",
       "      <th>sales</th>\n",
       "      <td>5263</td>\n",
       "      <td>6064</td>\n",
       "      <td>8314</td>\n",
       "      <td>13995</td>\n",
       "      <td>4822</td>\n",
       "    </tr>\n",
       "    <tr>\n",
       "      <th>customers</th>\n",
       "      <td>555</td>\n",
       "      <td>625</td>\n",
       "      <td>821</td>\n",
       "      <td>1498</td>\n",
       "      <td>559</td>\n",
       "    </tr>\n",
       "    <tr>\n",
       "      <th>open</th>\n",
       "      <td>1</td>\n",
       "      <td>1</td>\n",
       "      <td>1</td>\n",
       "      <td>1</td>\n",
       "      <td>1</td>\n",
       "    </tr>\n",
       "    <tr>\n",
       "      <th>promo</th>\n",
       "      <td>1</td>\n",
       "      <td>1</td>\n",
       "      <td>1</td>\n",
       "      <td>1</td>\n",
       "      <td>1</td>\n",
       "    </tr>\n",
       "    <tr>\n",
       "      <th>state_holiday</th>\n",
       "      <td>regular_day</td>\n",
       "      <td>regular_day</td>\n",
       "      <td>regular_day</td>\n",
       "      <td>regular_day</td>\n",
       "      <td>regular_day</td>\n",
       "    </tr>\n",
       "    <tr>\n",
       "      <th>school_holiday</th>\n",
       "      <td>1</td>\n",
       "      <td>1</td>\n",
       "      <td>1</td>\n",
       "      <td>1</td>\n",
       "      <td>1</td>\n",
       "    </tr>\n",
       "    <tr>\n",
       "      <th>store_type</th>\n",
       "      <td>c</td>\n",
       "      <td>a</td>\n",
       "      <td>a</td>\n",
       "      <td>c</td>\n",
       "      <td>a</td>\n",
       "    </tr>\n",
       "    <tr>\n",
       "      <th>assortment</th>\n",
       "      <td>basic</td>\n",
       "      <td>basic</td>\n",
       "      <td>basic</td>\n",
       "      <td>extended</td>\n",
       "      <td>basic</td>\n",
       "    </tr>\n",
       "    <tr>\n",
       "      <th>competition_distance</th>\n",
       "      <td>1270.0</td>\n",
       "      <td>570.0</td>\n",
       "      <td>14130.0</td>\n",
       "      <td>620.0</td>\n",
       "      <td>29910.0</td>\n",
       "    </tr>\n",
       "    <tr>\n",
       "      <th>competition_open_since_month</th>\n",
       "      <td>9</td>\n",
       "      <td>11</td>\n",
       "      <td>12</td>\n",
       "      <td>9</td>\n",
       "      <td>4</td>\n",
       "    </tr>\n",
       "    <tr>\n",
       "      <th>competition_open_since_year</th>\n",
       "      <td>2008</td>\n",
       "      <td>2007</td>\n",
       "      <td>2006</td>\n",
       "      <td>2009</td>\n",
       "      <td>2015</td>\n",
       "    </tr>\n",
       "    <tr>\n",
       "      <th>promo2</th>\n",
       "      <td>0</td>\n",
       "      <td>1</td>\n",
       "      <td>1</td>\n",
       "      <td>0</td>\n",
       "      <td>0</td>\n",
       "    </tr>\n",
       "    <tr>\n",
       "      <th>promo2_since_week</th>\n",
       "      <td>31</td>\n",
       "      <td>13</td>\n",
       "      <td>14</td>\n",
       "      <td>31</td>\n",
       "      <td>31</td>\n",
       "    </tr>\n",
       "    <tr>\n",
       "      <th>promo2_since_year</th>\n",
       "      <td>2015</td>\n",
       "      <td>2010</td>\n",
       "      <td>2011</td>\n",
       "      <td>2015</td>\n",
       "      <td>2015</td>\n",
       "    </tr>\n",
       "    <tr>\n",
       "      <th>promo_interval</th>\n",
       "      <td>0</td>\n",
       "      <td>Jan,Apr,Jul,Oct</td>\n",
       "      <td>Jan,Apr,Jul,Oct</td>\n",
       "      <td>0</td>\n",
       "      <td>0</td>\n",
       "    </tr>\n",
       "    <tr>\n",
       "      <th>month_map</th>\n",
       "      <td>Jul</td>\n",
       "      <td>Jul</td>\n",
       "      <td>Jul</td>\n",
       "      <td>Jul</td>\n",
       "      <td>Jul</td>\n",
       "    </tr>\n",
       "    <tr>\n",
       "      <th>is_promo</th>\n",
       "      <td>0</td>\n",
       "      <td>1</td>\n",
       "      <td>1</td>\n",
       "      <td>0</td>\n",
       "      <td>0</td>\n",
       "    </tr>\n",
       "    <tr>\n",
       "      <th>year</th>\n",
       "      <td>2015</td>\n",
       "      <td>2015</td>\n",
       "      <td>2015</td>\n",
       "      <td>2015</td>\n",
       "      <td>2015</td>\n",
       "    </tr>\n",
       "    <tr>\n",
       "      <th>month</th>\n",
       "      <td>7</td>\n",
       "      <td>7</td>\n",
       "      <td>7</td>\n",
       "      <td>7</td>\n",
       "      <td>7</td>\n",
       "    </tr>\n",
       "    <tr>\n",
       "      <th>day</th>\n",
       "      <td>31</td>\n",
       "      <td>31</td>\n",
       "      <td>31</td>\n",
       "      <td>31</td>\n",
       "      <td>31</td>\n",
       "    </tr>\n",
       "    <tr>\n",
       "      <th>week_of_year</th>\n",
       "      <td>31</td>\n",
       "      <td>31</td>\n",
       "      <td>31</td>\n",
       "      <td>31</td>\n",
       "      <td>31</td>\n",
       "    </tr>\n",
       "    <tr>\n",
       "      <th>year_week</th>\n",
       "      <td>2015-30</td>\n",
       "      <td>2015-30</td>\n",
       "      <td>2015-30</td>\n",
       "      <td>2015-30</td>\n",
       "      <td>2015-30</td>\n",
       "    </tr>\n",
       "    <tr>\n",
       "      <th>competition_since</th>\n",
       "      <td>2008-09-01 00:00:00</td>\n",
       "      <td>2007-11-01 00:00:00</td>\n",
       "      <td>2006-12-01 00:00:00</td>\n",
       "      <td>2009-09-01 00:00:00</td>\n",
       "      <td>2015-04-01 00:00:00</td>\n",
       "    </tr>\n",
       "    <tr>\n",
       "      <th>competition_time_month</th>\n",
       "      <td>84</td>\n",
       "      <td>94</td>\n",
       "      <td>105</td>\n",
       "      <td>71</td>\n",
       "      <td>4</td>\n",
       "    </tr>\n",
       "    <tr>\n",
       "      <th>promo_since</th>\n",
       "      <td>2015-07-27 00:00:00</td>\n",
       "      <td>2010-03-22 00:00:00</td>\n",
       "      <td>2011-03-28 00:00:00</td>\n",
       "      <td>2015-07-27 00:00:00</td>\n",
       "      <td>2015-07-27 00:00:00</td>\n",
       "    </tr>\n",
       "    <tr>\n",
       "      <th>promo_time_week</th>\n",
       "      <td>0</td>\n",
       "      <td>279</td>\n",
       "      <td>226</td>\n",
       "      <td>0</td>\n",
       "      <td>0</td>\n",
       "    </tr>\n",
       "  </tbody>\n",
       "</table>\n",
       "</div>"
      ],
      "text/plain": [
       "                                                0                    1                    2                    3                    4\n",
       "store                                           1                    2                    3                    4                    5\n",
       "day_of_week                                     5                    5                    5                    5                    5\n",
       "date                          2015-07-31 00:00:00  2015-07-31 00:00:00  2015-07-31 00:00:00  2015-07-31 00:00:00  2015-07-31 00:00:00\n",
       "sales                                        5263                 6064                 8314                13995                 4822\n",
       "customers                                     555                  625                  821                 1498                  559\n",
       "open                                            1                    1                    1                    1                    1\n",
       "promo                                           1                    1                    1                    1                    1\n",
       "state_holiday                         regular_day          regular_day          regular_day          regular_day          regular_day\n",
       "school_holiday                                  1                    1                    1                    1                    1\n",
       "store_type                                      c                    a                    a                    c                    a\n",
       "assortment                                  basic                basic                basic             extended                basic\n",
       "competition_distance                       1270.0                570.0              14130.0                620.0              29910.0\n",
       "competition_open_since_month                    9                   11                   12                    9                    4\n",
       "competition_open_since_year                  2008                 2007                 2006                 2009                 2015\n",
       "promo2                                          0                    1                    1                    0                    0\n",
       "promo2_since_week                              31                   13                   14                   31                   31\n",
       "promo2_since_year                            2015                 2010                 2011                 2015                 2015\n",
       "promo_interval                                  0      Jan,Apr,Jul,Oct      Jan,Apr,Jul,Oct                    0                    0\n",
       "month_map                                     Jul                  Jul                  Jul                  Jul                  Jul\n",
       "is_promo                                        0                    1                    1                    0                    0\n",
       "year                                         2015                 2015                 2015                 2015                 2015\n",
       "month                                           7                    7                    7                    7                    7\n",
       "day                                            31                   31                   31                   31                   31\n",
       "week_of_year                                   31                   31                   31                   31                   31\n",
       "year_week                                 2015-30              2015-30              2015-30              2015-30              2015-30\n",
       "competition_since             2008-09-01 00:00:00  2007-11-01 00:00:00  2006-12-01 00:00:00  2009-09-01 00:00:00  2015-04-01 00:00:00\n",
       "competition_time_month                         84                   94                  105                   71                    4\n",
       "promo_since                   2015-07-27 00:00:00  2010-03-22 00:00:00  2011-03-28 00:00:00  2015-07-27 00:00:00  2015-07-27 00:00:00\n",
       "promo_time_week                                 0                  279                  226                    0                    0"
      ]
     },
     "execution_count": 19,
     "metadata": {},
     "output_type": "execute_result"
    }
   ],
   "source": [
    "df2.head().T"
   ]
  },
  {
   "cell_type": "code",
   "execution_count": null,
   "id": "oriented-recycling",
   "metadata": {},
   "outputs": [],
   "source": []
  }
 ],
 "metadata": {
  "hide_input": false,
  "kernelspec": {
   "display_name": "Python 3",
   "language": "python",
   "name": "python3"
  },
  "language_info": {
   "codemirror_mode": {
    "name": "ipython",
    "version": 3
   },
   "file_extension": ".py",
   "mimetype": "text/x-python",
   "name": "python",
   "nbconvert_exporter": "python",
   "pygments_lexer": "ipython3",
   "version": "3.8.0"
  },
  "nbTranslate": {
   "displayLangs": [
    "*"
   ],
   "hotkey": "alt-t",
   "langInMainMenu": true,
   "sourceLang": "en",
   "targetLang": "fr",
   "useGoogleTranslate": true
  }
 },
 "nbformat": 4,
 "nbformat_minor": 5
}
