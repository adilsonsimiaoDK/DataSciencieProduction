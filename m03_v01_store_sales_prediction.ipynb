{
 "cells": [
  {
   "cell_type": "markdown",
   "id": "colonial-sustainability",
   "metadata": {},
   "source": [
    "# 0.0. IMPORTS"
   ]
  },
  {
   "cell_type": "code",
   "execution_count": 1,
   "id": "pointed-ceiling",
   "metadata": {
    "ExecuteTime": {
     "end_time": "2021-03-11T14:49:41.548089Z",
     "start_time": "2021-03-11T14:49:38.947176Z"
    },
    "hide_input": false
   },
   "outputs": [],
   "source": [
    "import pandas as pd\n",
    "import inflection\n",
    "import numpy as np\n",
    "import math\n",
    "import datetime\n",
    "import seaborn as sns\n",
    "from matplotlib import pyplot as plt\n",
    "from IPython.core.display import HTML\n",
    "from IPython.display import Image\n"
   ]
  },
  {
   "cell_type": "markdown",
   "id": "designed-accuracy",
   "metadata": {},
   "source": [
    "# 1.0 STEP 1 - DATA DESCRIPTION"
   ]
  },
  {
   "cell_type": "markdown",
   "id": "stainless-tampa",
   "metadata": {},
   "source": [
    "0.1. Helper Functions"
   ]
  },
  {
   "cell_type": "code",
   "execution_count": 2,
   "id": "demographic-privilege",
   "metadata": {
    "ExecuteTime": {
     "end_time": "2021-03-11T14:49:42.879657Z",
     "start_time": "2021-03-11T14:49:42.865370Z"
    }
   },
   "outputs": [],
   "source": [
    "def jupyter_settings():\n",
    "    %matplotlib inline\n",
    "    %pylab inline\n",
    "    \n",
    "    plt.style.use( 'bmh' )\n",
    "    plt.rcParams['figure.figsize'] = [25, 12]\n",
    "    plt.rcParams['font.size'] = 24\n",
    "    \n",
    "    display( HTML( '<style>.container { width:100% !important; }</style>') )\n",
    "    pd.options.display.max_columns = None\n",
    "    pd.options.display.max_rows = None\n",
    "    pd.set_option( 'display.expand_frame_repr', False )\n",
    "    \n",
    "    sns.set()"
   ]
  },
  {
   "cell_type": "code",
   "execution_count": 3,
   "id": "dependent-evans",
   "metadata": {
    "ExecuteTime": {
     "end_time": "2021-03-11T14:49:45.854321Z",
     "start_time": "2021-03-11T14:49:45.824475Z"
    }
   },
   "outputs": [
    {
     "name": "stdout",
     "output_type": "stream",
     "text": [
      "Populating the interactive namespace from numpy and matplotlib\n"
     ]
    },
    {
     "data": {
      "text/html": [
       "<style>.container { width:100% !important; }</style>"
      ],
      "text/plain": [
       "<IPython.core.display.HTML object>"
      ]
     },
     "metadata": {},
     "output_type": "display_data"
    }
   ],
   "source": [
    "jupyter_settings()"
   ]
  },
  {
   "cell_type": "markdown",
   "id": "convenient-monitor",
   "metadata": {
    "lang": "en"
   },
   "source": [
    "0.2 Loading Data"
   ]
  },
  {
   "cell_type": "code",
   "execution_count": 4,
   "id": "spatial-galaxy",
   "metadata": {
    "ExecuteTime": {
     "end_time": "2021-03-11T14:49:53.550552Z",
     "start_time": "2021-03-11T14:49:51.536571Z"
    }
   },
   "outputs": [],
   "source": [
    "df_sales_raw = pd.read_csv('data/train.csv', low_memory=False)\n",
    "df_store_raw = pd.read_csv('data/store.csv', low_memory=False)\n",
    "# merge\n",
    "df_raw = pd.merge(df_sales_raw, df_store_raw, how='left', on='Store' )"
   ]
  },
  {
   "cell_type": "markdown",
   "id": "continuing-flour",
   "metadata": {
    "hide_input": true
   },
   "source": [
    "1.0 DATA DESCRIPTION."
   ]
  },
  {
   "cell_type": "code",
   "execution_count": 5,
   "id": "previous-protection",
   "metadata": {
    "ExecuteTime": {
     "end_time": "2021-03-11T14:49:55.917192Z",
     "start_time": "2021-03-11T14:49:55.606531Z"
    }
   },
   "outputs": [],
   "source": [
    "df1 = df_raw.copy()"
   ]
  },
  {
   "cell_type": "markdown",
   "id": "lonely-enlargement",
   "metadata": {
    "ExecuteTime": {
     "end_time": "2021-03-05T17:40:05.708403Z",
     "start_time": "2021-03-05T17:40:05.700167Z"
    }
   },
   "source": [
    "1.1 Rename columns.\n"
   ]
  },
  {
   "cell_type": "code",
   "execution_count": 6,
   "id": "absolute-richardson",
   "metadata": {
    "ExecuteTime": {
     "end_time": "2021-03-11T14:50:02.189219Z",
     "start_time": "2021-03-11T14:50:02.180971Z"
    }
   },
   "outputs": [],
   "source": [
    "cols_old = ['Store', 'DayOfWeek', 'Date', 'Sales','Customers','Open', 'Promo','StateHoliday','SchoolHoliday',\n",
    "               'StoreType', 'Assortment','CompetitionDistance','CompetitionOpenSinceMonth','CompetitionOpenSinceYear', \n",
    "               'Promo2', 'Promo2SinceWeek','Promo2SinceYear', 'PromoInterval']\n",
    "snackecase = lambda x: inflection.underscore(x)\n",
    "cols_new =list(map(snackecase, cols_old))\n",
    "df1.columns = cols_new"
   ]
  },
  {
   "cell_type": "markdown",
   "id": "floppy-shirt",
   "metadata": {},
   "source": [
    "1.2 Data Dimensions"
   ]
  },
  {
   "cell_type": "code",
   "execution_count": 7,
   "id": "pursuant-license",
   "metadata": {
    "ExecuteTime": {
     "end_time": "2021-03-11T14:50:06.241357Z",
     "start_time": "2021-03-11T14:50:06.234462Z"
    }
   },
   "outputs": [
    {
     "name": "stdout",
     "output_type": "stream",
     "text": [
      "number of Rows: 1017209\n",
      "Number of cols: 18\n"
     ]
    }
   ],
   "source": [
    "print(f'number of Rows: {df1.shape[0]}')\n",
    "print(f'Number of cols: {df1.shape[1]}')"
   ]
  },
  {
   "cell_type": "markdown",
   "id": "lucky-preserve",
   "metadata": {},
   "source": [
    "1.3 variable date conversion"
   ]
  },
  {
   "cell_type": "code",
   "execution_count": 8,
   "id": "located-vitamin",
   "metadata": {
    "ExecuteTime": {
     "end_time": "2021-03-11T14:50:10.683699Z",
     "start_time": "2021-03-11T14:50:10.433807Z"
    }
   },
   "outputs": [],
   "source": [
    "df1['date'] = pd.to_datetime(df1['date'] )"
   ]
  },
  {
   "cell_type": "markdown",
   "id": "formal-configuration",
   "metadata": {},
   "source": [
    "1.4 Sum of NA"
   ]
  },
  {
   "cell_type": "code",
   "execution_count": 10,
   "id": "serious-format",
   "metadata": {
    "ExecuteTime": {
     "end_time": "2021-03-11T14:20:22.931239Z",
     "start_time": "2021-03-11T14:20:22.420272Z"
    }
   },
   "outputs": [
    {
     "data": {
      "text/plain": [
       "store                                0\n",
       "day_of_week                          0\n",
       "date                                 0\n",
       "sales                                0\n",
       "customers                            0\n",
       "open                                 0\n",
       "promo                                0\n",
       "state_holiday                        0\n",
       "school_holiday                       0\n",
       "store_type                           0\n",
       "assortment                           0\n",
       "competition_distance              2642\n",
       "competition_open_since_month    323348\n",
       "competition_open_since_year     323348\n",
       "promo2                               0\n",
       "promo2_since_week               508031\n",
       "promo2_since_year               508031\n",
       "promo_interval                  508031\n",
       "dtype: int64"
      ]
     },
     "execution_count": 10,
     "metadata": {},
     "output_type": "execute_result"
    }
   ],
   "source": [
    "df1.isna().sum()"
   ]
  },
  {
   "cell_type": "markdown",
   "id": "weighted-expense",
   "metadata": {},
   "source": [
    "1.5 Fillout NA"
   ]
  },
  {
   "cell_type": "code",
   "execution_count": 10,
   "id": "paperback-recipe",
   "metadata": {
    "ExecuteTime": {
     "end_time": "2021-03-11T14:06:09.542718Z",
     "start_time": "2021-03-11T14:06:09.537988Z"
    }
   },
   "outputs": [],
   "source": [
    "# Code better than under! \n",
    "# date_open = df1.date\n",
    "# df1.competition_open_since_month.fillna(df1.date, inplace=True)\n",
    "# df1.competition_open_since_year.fillna(df1.date.dt.year, inplace=True)\n",
    "# df1['is_promo'] = datedf1.date.dt.strftime(\"%b\")\n",
    "# print(df1.competition_open_since_month)"
   ]
  },
  {
   "cell_type": "code",
   "execution_count": 9,
   "id": "exceptional-concentration",
   "metadata": {
    "ExecuteTime": {
     "end_time": "2021-03-11T14:54:26.672350Z",
     "start_time": "2021-03-11T14:50:19.474844Z"
    }
   },
   "outputs": [],
   "source": [
    "# competition_distance    \n",
    "df1.competition_distance.fillna(10000., inplace=True)\n",
    "#competition_open_since_month\n",
    "df1['competition_open_since_month'] = df1.apply( lambda x: x['date'].month if math.isnan( x['competition_open_since_month'] ) else x['competition_open_since_month'], axis=1 )\n",
    "\n",
    "#competition_open_since_year \n",
    "df1['competition_open_since_year'] = df1.apply( lambda x: x['date'].year if math.isnan( x['competition_open_since_year'] ) else x['competition_open_since_year'], axis=1 )\n",
    "\n",
    "#promo2_since_week           \n",
    "df1['promo2_since_week'] = df1.apply( lambda x: x['date'].week if math.isnan( x['promo2_since_week'] ) else x['promo2_since_week'], axis=1 )\n",
    "\n",
    "#promo2_since_year           \n",
    "df1['promo2_since_year'] = df1.apply( lambda x: x['date'].year if math.isnan( x['promo2_since_year'] ) else x['promo2_since_year'], axis=1 )\n",
    "\n",
    "#promo_interval              \n",
    "month_map = {1: 'Jan',  2: 'Fev',  3: 'Mar',  4: 'Apr',  5: 'May',  6: 'Jun',  7: 'Jul',  8: 'Aug',  9: 'Sep',  10: 'Oct', 11: 'Nov', 12: 'Dec'}\n",
    "\n",
    "df1['promo_interval'].fillna(0, inplace=True )\n",
    "\n",
    "df1['month_map'] = df1['date'].dt.month.map( month_map )\n",
    "\n",
    "df1['is_promo'] = df1[['promo_interval', 'month_map']].apply( lambda x: 0 if x['promo_interval'] == 0 else 1 if x['month_map'] in x['promo_interval'].split( ',' ) else 0, axis=1 )\n"
   ]
  },
  {
   "cell_type": "code",
   "execution_count": 50,
   "id": "bigger-terrorism",
   "metadata": {
    "ExecuteTime": {
     "end_time": "2021-03-08T10:59:47.151711Z",
     "start_time": "2021-03-08T10:59:46.420762Z"
    }
   },
   "outputs": [
    {
     "data": {
      "text/html": [
       "<div>\n",
       "<style scoped>\n",
       "    .dataframe tbody tr th:only-of-type {\n",
       "        vertical-align: middle;\n",
       "    }\n",
       "\n",
       "    .dataframe tbody tr th {\n",
       "        vertical-align: top;\n",
       "    }\n",
       "\n",
       "    .dataframe thead th {\n",
       "        text-align: right;\n",
       "    }\n",
       "</style>\n",
       "<table border=\"1\" class=\"dataframe\">\n",
       "  <thead>\n",
       "    <tr style=\"text-align: right;\">\n",
       "      <th></th>\n",
       "      <th>91791</th>\n",
       "    </tr>\n",
       "  </thead>\n",
       "  <tbody>\n",
       "    <tr>\n",
       "      <th>store</th>\n",
       "      <td>362</td>\n",
       "    </tr>\n",
       "    <tr>\n",
       "      <th>day_of_week</th>\n",
       "      <td>7</td>\n",
       "    </tr>\n",
       "    <tr>\n",
       "      <th>date</th>\n",
       "      <td>2015-05-10 00:00:00</td>\n",
       "    </tr>\n",
       "    <tr>\n",
       "      <th>sales</th>\n",
       "      <td>0</td>\n",
       "    </tr>\n",
       "    <tr>\n",
       "      <th>customers</th>\n",
       "      <td>0</td>\n",
       "    </tr>\n",
       "    <tr>\n",
       "      <th>open</th>\n",
       "      <td>0</td>\n",
       "    </tr>\n",
       "    <tr>\n",
       "      <th>promo</th>\n",
       "      <td>0</td>\n",
       "    </tr>\n",
       "    <tr>\n",
       "      <th>state_holiday</th>\n",
       "      <td>0</td>\n",
       "    </tr>\n",
       "    <tr>\n",
       "      <th>school_holiday</th>\n",
       "      <td>0</td>\n",
       "    </tr>\n",
       "    <tr>\n",
       "      <th>store_type</th>\n",
       "      <td>c</td>\n",
       "    </tr>\n",
       "    <tr>\n",
       "      <th>assortment</th>\n",
       "      <td>c</td>\n",
       "    </tr>\n",
       "    <tr>\n",
       "      <th>competition_distance</th>\n",
       "      <td>340.0</td>\n",
       "    </tr>\n",
       "    <tr>\n",
       "      <th>competition_open_since_month</th>\n",
       "      <td>5.0</td>\n",
       "    </tr>\n",
       "    <tr>\n",
       "      <th>competition_open_since_year</th>\n",
       "      <td>2015.0</td>\n",
       "    </tr>\n",
       "    <tr>\n",
       "      <th>promo2</th>\n",
       "      <td>0</td>\n",
       "    </tr>\n",
       "    <tr>\n",
       "      <th>promo2_since_week</th>\n",
       "      <td>19.0</td>\n",
       "    </tr>\n",
       "    <tr>\n",
       "      <th>promo2_since_year</th>\n",
       "      <td>2015.0</td>\n",
       "    </tr>\n",
       "    <tr>\n",
       "      <th>promo_interval</th>\n",
       "      <td>0</td>\n",
       "    </tr>\n",
       "    <tr>\n",
       "      <th>month_map</th>\n",
       "      <td>May</td>\n",
       "    </tr>\n",
       "    <tr>\n",
       "      <th>is_promo</th>\n",
       "      <td>0</td>\n",
       "    </tr>\n",
       "  </tbody>\n",
       "</table>\n",
       "</div>"
      ],
      "text/plain": [
       "                                            91791\n",
       "store                                         362\n",
       "day_of_week                                     7\n",
       "date                          2015-05-10 00:00:00\n",
       "sales                                           0\n",
       "customers                                       0\n",
       "open                                            0\n",
       "promo                                           0\n",
       "state_holiday                                   0\n",
       "school_holiday                                  0\n",
       "store_type                                      c\n",
       "assortment                                      c\n",
       "competition_distance                        340.0\n",
       "competition_open_since_month                  5.0\n",
       "competition_open_since_year                2015.0\n",
       "promo2                                          0\n",
       "promo2_since_week                            19.0\n",
       "promo2_since_year                          2015.0\n",
       "promo_interval                                  0\n",
       "month_map                                     May\n",
       "is_promo                                        0"
      ]
     },
     "execution_count": 50,
     "metadata": {},
     "output_type": "execute_result"
    }
   ],
   "source": [
    "df1.sample(1).T"
   ]
  },
  {
   "cell_type": "markdown",
   "id": "lightweight-nightlife",
   "metadata": {},
   "source": [
    "1.6. Change Types:"
   ]
  },
  {
   "cell_type": "code",
   "execution_count": 11,
   "id": "cultural-grounds",
   "metadata": {
    "ExecuteTime": {
     "end_time": "2021-03-10T14:40:47.100988Z",
     "start_time": "2021-03-10T14:40:47.086119Z"
    }
   },
   "outputs": [
    {
     "data": {
      "text/plain": [
       "store                                    int64\n",
       "day_of_week                              int64\n",
       "date                            datetime64[ns]\n",
       "sales                                    int64\n",
       "customers                                int64\n",
       "open                                     int64\n",
       "promo                                    int64\n",
       "state_holiday                           object\n",
       "school_holiday                           int64\n",
       "store_type                              object\n",
       "assortment                              object\n",
       "competition_distance                   float64\n",
       "competition_open_since_month           float64\n",
       "competition_open_since_year            float64\n",
       "promo2                                   int64\n",
       "promo2_since_week                      float64\n",
       "promo2_since_year                      float64\n",
       "promo_interval                          object\n",
       "month_map                               object\n",
       "is_promo                                 int64\n",
       "dtype: object"
      ]
     },
     "execution_count": 11,
     "metadata": {},
     "output_type": "execute_result"
    }
   ],
   "source": [
    "df1.dtypes"
   ]
  },
  {
   "cell_type": "code",
   "execution_count": 10,
   "id": "hollywood-success",
   "metadata": {
    "ExecuteTime": {
     "end_time": "2021-03-11T14:54:45.413359Z",
     "start_time": "2021-03-11T14:54:45.352569Z"
    }
   },
   "outputs": [],
   "source": [
    "df1.competition_open_since_month = df1.competition_open_since_month.astype(int)\n",
    "df1.competition_open_since_year = df1.competition_open_since_year.astype(int)\n",
    "df1.promo2_since_week = df1.promo2_since_week.astype(int)\n",
    "df1.promo2_since_year = df1.promo2_since_year.astype(int)"
   ]
  },
  {
   "cell_type": "markdown",
   "id": "skilled-purchase",
   "metadata": {},
   "source": [
    "1.7 Descriptive Statiscal"
   ]
  },
  {
   "cell_type": "code",
   "execution_count": 11,
   "id": "embedded-advance",
   "metadata": {
    "ExecuteTime": {
     "end_time": "2021-03-11T14:54:56.346110Z",
     "start_time": "2021-03-11T14:54:55.878080Z"
    }
   },
   "outputs": [],
   "source": [
    "# num_attributes select just numbers\n",
    "# cat_attributes select just categories\n",
    "num_attributes = df1.select_dtypes(include=['int64', 'float64'])\n",
    "cat_attributes = df1.select_dtypes(exclude =['int64', 'float64', 'datetime64[ns]'])\n"
   ]
  },
  {
   "cell_type": "markdown",
   "id": "mobile-conflict",
   "metadata": {},
   "source": [
    "1.7.1 Numerical Attributes"
   ]
  },
  {
   "cell_type": "code",
   "execution_count": 12,
   "id": "painful-hughes",
   "metadata": {
    "ExecuteTime": {
     "end_time": "2021-03-11T14:55:12.957605Z",
     "start_time": "2021-03-11T14:55:05.873674Z"
    }
   },
   "outputs": [],
   "source": [
    "# Central Tendency - mean, median\n",
    "ct1 = pd.DataFrame(num_attributes.apply(np.mean)).T\n",
    "ct2 = pd.DataFrame(num_attributes.apply(np.median)).T\n",
    "# Dispersion- std, min, max, range, skew, kurtosis \n",
    "d1= pd.DataFrame(num_attributes.apply(np.std)).T\n",
    "d2= pd.DataFrame(num_attributes.apply(min)).T\n",
    "d3= pd.DataFrame(num_attributes.apply(max)).T\n",
    "d4= pd.DataFrame(num_attributes.apply(lambda x: x.max() - x.min())).T\n",
    "d5= pd.DataFrame(num_attributes.apply(lambda x: x.skew())).T\n",
    "d6= pd.DataFrame(num_attributes.apply(lambda x: x.kurtosis())).T\n",
    "# concatenate\n",
    "m = pd.concat([d2,d3,d4,ct1,ct2,d1,d5,d6]).T.reset_index()"
   ]
  },
  {
   "cell_type": "code",
   "execution_count": 13,
   "id": "isolated-explosion",
   "metadata": {
    "ExecuteTime": {
     "end_time": "2021-03-11T14:55:18.362059Z",
     "start_time": "2021-03-11T14:55:18.354334Z"
    }
   },
   "outputs": [],
   "source": [
    "m.columns=['attributes','min','max','range','averange','median','std','skew','kurtosis']"
   ]
  },
  {
   "cell_type": "code",
   "execution_count": null,
   "id": "worst-cathedral",
   "metadata": {
    "ExecuteTime": {
     "end_time": "2021-03-10T13:18:41.206501Z",
     "start_time": "2021-03-10T13:14:36.009Z"
    }
   },
   "outputs": [],
   "source": [
    "m"
   ]
  },
  {
   "cell_type": "markdown",
   "id": "empty-percentage",
   "metadata": {},
   "source": [
    "1.7.2 Categorical Attributes"
   ]
  },
  {
   "cell_type": "code",
   "execution_count": null,
   "id": "binding-breakfast",
   "metadata": {
    "ExecuteTime": {
     "end_time": "2021-03-10T13:18:41.209239Z",
     "start_time": "2021-03-10T13:14:52.227Z"
    }
   },
   "outputs": [],
   "source": [
    "# sns.distplot( df1['competition_distance'], kde=False )"
   ]
  },
  {
   "cell_type": "code",
   "execution_count": 14,
   "id": "referenced-phrase",
   "metadata": {
    "ExecuteTime": {
     "end_time": "2021-03-11T14:55:36.142029Z",
     "start_time": "2021-03-11T14:55:35.718640Z"
    }
   },
   "outputs": [
    {
     "data": {
      "text/plain": [
       "state_holiday      4\n",
       "store_type         4\n",
       "assortment         3\n",
       "promo_interval     4\n",
       "month_map         12\n",
       "dtype: int64"
      ]
     },
     "execution_count": 14,
     "metadata": {},
     "output_type": "execute_result"
    }
   ],
   "source": [
    "cat_attributes.apply(lambda x:x.unique().shape[0])"
   ]
  },
  {
   "cell_type": "code",
   "execution_count": 15,
   "id": "major-basketball",
   "metadata": {
    "ExecuteTime": {
     "end_time": "2021-03-09T08:50:33.477469Z",
     "start_time": "2021-03-09T08:50:31.005627Z"
    }
   },
   "outputs": [
    {
     "data": {
      "text/plain": [
       "<AxesSubplot:xlabel='assortment', ylabel='sales'>"
      ]
     },
     "execution_count": 15,
     "metadata": {},
     "output_type": "execute_result"
    },
    {
     "data": {
      "image/png": "[encoded data removed]",
      "text/plain": [
       "<Figure size 1800x864 with 3 Axes>"
      ]
     },
     "metadata": {},
     "output_type": "display_data"
    }
   ],
   "source": [
    "aux1 = df1[(df1['state_holiday'] != '0') & (df1['sales'] > 0)]\n",
    "plt.subplot(1,3,1)\n",
    "sns.boxplot(x='state_holiday', y='sales', data = aux1)\n",
    "plt.subplot(1,3,2)\n",
    "sns.boxplot(x='store_type', y='sales', data = aux1)\n",
    "plt.subplot(1,3,3)\n",
    "sns.boxplot(x='assortment', y='sales', data = aux1)"
   ]
  },
  {
   "cell_type": "markdown",
   "id": "golden-switch",
   "metadata": {},
   "source": [
    "# 2.0 STEP 02 FEATURE ENGINEERING"
   ]
  },
  {
   "cell_type": "code",
   "execution_count": 44,
   "id": "worth-cooper",
   "metadata": {
    "ExecuteTime": {
     "end_time": "2021-03-11T15:21:18.174355Z",
     "start_time": "2021-03-11T15:21:17.983908Z"
    }
   },
   "outputs": [],
   "source": [
    "df2 = df1.copy()\n"
   ]
  },
  {
   "cell_type": "markdown",
   "id": "attended-baking",
   "metadata": {
    "slideshow": {
     "slide_type": "slide"
    }
   },
   "source": []
  },
  {
   "cell_type": "code",
   "execution_count": 34,
   "id": "greek-copying",
   "metadata": {
    "ExecuteTime": {
     "end_time": "2021-03-11T15:14:59.378957Z",
     "start_time": "2021-03-11T15:14:59.359136Z"
    }
   },
   "outputs": [
    {
     "data": {
      "image/png": "[encoded data removed]",
      "text/plain": [
       "<IPython.core.display.Image object>"
      ]
     },
     "execution_count": 34,
     "metadata": {},
     "output_type": "execute_result"
    }
   ],
   "source": [
    "Image('img/MindMapHypothesis.png')"
   ]
  },
  {
   "cell_type": "markdown",
   "id": "closing-scale",
   "metadata": {},
   "source": [
    "## 2.1 Hypothesis Mind Map "
   ]
  },
  {
   "cell_type": "markdown",
   "id": "earned-greensboro",
   "metadata": {
    "ExecuteTime": {
     "end_time": "2021-03-10T09:58:04.453196Z",
     "start_time": "2021-03-10T09:58:04.446859Z"
    }
   },
   "source": [
    "##  2.1 Store Hypothesis"
   ]
  },
  {
   "cell_type": "markdown",
   "id": "smooth-modern",
   "metadata": {},
   "source": [
    "**1.** Should stores with large numbers of employees sell more?\n",
    "\n",
    "**2.** Should stores with bigger stock sell more?\n",
    "\n",
    "**3.** Should stores with bigger size should sell more?\n",
    "\n",
    "**4.** Should stores with smaller size sales less?\n",
    "\n",
    "**5.** Should Stores with bigger assortment sell more?"
   ]
  },
  {
   "cell_type": "markdown",
   "id": "distinguished-bennett",
   "metadata": {
    "ExecuteTime": {
     "end_time": "2021-03-10T09:59:09.762170Z",
     "start_time": "2021-03-10T09:59:09.758062Z"
    }
   },
   "source": [
    "## 2.2 Product Hypothesis"
   ]
  },
  {
   "cell_type": "markdown",
   "id": "flush-letter",
   "metadata": {},
   "source": [
    "**1.** Should stores that invest more in marketing sell more?\n",
    "\n",
    "**2.** Should stores that show more the products sell more?\n",
    "\n",
    "**3.** Should stores that has small price sell more?\n",
    "\n",
    "**4.** Should stores that has small price for long time sell more?"
   ]
  },
  {
   "cell_type": "markdown",
   "id": "mechanical-incidence",
   "metadata": {},
   "source": [
    "## 2.1.3  Time Hypothesis"
   ]
  },
  {
   "cell_type": "markdown",
   "id": "automotive-modem",
   "metadata": {},
   "source": [
    "**1.** Should store that doesn't work at holydays sell less.\n",
    "\n",
    "**2.** Should store that start at 6 month sell more.\n",
    "\n",
    "**3.** Should store that works at holydays sell more.\n",
    "\n",
    "**4.** Should store that has more promotion sell more."
   ]
  },
  {
   "cell_type": "markdown",
   "id": "single-exclusion",
   "metadata": {},
   "source": [
    "## 2.3 Hyposthesis Final list"
   ]
  },
  {
   "cell_type": "markdown",
   "id": "anticipated-terror",
   "metadata": {},
   "source": [
    "**1.** Should Stores with bigger assortment sell more?\n",
    "\n",
    "**2.** Should store that doesn't work at holydays sell less.\n",
    "\n",
    "**3.** Should store that start at 6 month sell more.\n",
    "\n",
    "**4.** Should store that works at holydays sell more.\n",
    "\n",
    "**5.** Should store that has more promotion sell more.\n",
    "\n",
    "**1.** Should store that work at Maryc sell less.\n",
    "\n",
    "**2.** Should store that has more sellers sell more.\n",
    "\n",
    "**3.** Should store that works at Christmas sell more.\n",
    "\n",
    "**4.** Should store that has more promotion sell more."
   ]
  },
  {
   "cell_type": "markdown",
   "id": "sharp-jumping",
   "metadata": {},
   "source": [
    "## 2.4 Feature Engineering"
   ]
  },
  {
   "cell_type": "code",
   "execution_count": 22,
   "id": "infectious-breach",
   "metadata": {
    "ExecuteTime": {
     "end_time": "2021-03-11T15:08:58.537194Z",
     "start_time": "2021-03-11T15:05:10.449718Z"
    }
   },
   "outputs": [],
   "source": [
    "# year\n",
    "df2['year'] = df2['date'].dt.year\n",
    "\n",
    "# month\n",
    "df2['month'] = df2['date'].dt.month\n",
    "\n",
    "# day\n",
    "df2['day'] = df2['date'].dt.day\n",
    "\n",
    "# week of year\n",
    "df2['week_of_year'] = df2['date'].dt.isocalendar().week\n",
    "\n",
    "# year week\n",
    "df2['year_week'] = df2['date'].dt.strftime('%Y-%W')\n",
    "\n",
    "# competition since\n",
    "df2['competition_since'] = df2.apply( lambda x: datetime.datetime( year=x['competition_open_since_year'], month=x['competition_open_since_month'],day=1 ), axis=1 )\n",
    "df2['competition_time_month'] = ( ( df2['date'] - df2['competition_since'] )/30 ).apply( lambda x: x.days ).astype( int )\n",
    "\n",
    "# promo since\n",
    "df2['promo_since'] = df2['promo2_since_year'].astype( str ) + '-' + df2['promo2_since_week'].astype( str )\n",
    "df2['promo_since'] = df2['promo_since'].apply( lambda x: datetime.datetime.strptime( x + '-1', '%Y-%W-%w' ) - datetime.timedelta( days=7 ) )\n",
    "df2['promo_time_week'] = ( ( df2['date'] - df2['promo_since'] )/7 ).apply( lambda x: x.days ).astype( int )\n",
    "\n",
    "# assortment\n",
    "df2['assortment'] = df2['assortment'].apply( lambda x: 'basic' if x == 'a' else 'extra' if x == 'b' else 'extended' )\n",
    "\n",
    "# state holiday\n",
    "df2['state_holiday'] = df2['state_holiday'].apply( lambda x: 'public_holiday' if x == 'a' else 'easter_holiday' if x == 'b' else 'christmas' if x == 'c' else 'regular_day' )"
   ]
  },
  {
   "cell_type": "code",
   "execution_count": 45,
   "id": "executive-great",
   "metadata": {
    "ExecuteTime": {
     "end_time": "2021-03-11T15:21:32.033059Z",
     "start_time": "2021-03-11T15:21:31.963773Z"
    }
   },
   "outputs": [
    {
     "data": {
      "text/html": [
       "<div>\n",
       "<style scoped>\n",
       "    .dataframe tbody tr th:only-of-type {\n",
       "        vertical-align: middle;\n",
       "    }\n",
       "\n",
       "    .dataframe tbody tr th {\n",
       "        vertical-align: top;\n",
       "    }\n",
       "\n",
       "    .dataframe thead th {\n",
       "        text-align: right;\n",
       "    }\n",
       "</style>\n",
       "<table border=\"1\" class=\"dataframe\">\n",
       "  <thead>\n",
       "    <tr style=\"text-align: right;\">\n",
       "      <th></th>\n",
       "      <th>0</th>\n",
       "      <th>1</th>\n",
       "      <th>2</th>\n",
       "      <th>3</th>\n",
       "      <th>4</th>\n",
       "    </tr>\n",
       "  </thead>\n",
       "  <tbody>\n",
       "    <tr>\n",
       "      <th>store</th>\n",
       "      <td>1</td>\n",
       "      <td>2</td>\n",
       "      <td>3</td>\n",
       "      <td>4</td>\n",
       "      <td>5</td>\n",
       "    </tr>\n",
       "    <tr>\n",
       "      <th>day_of_week</th>\n",
       "      <td>5</td>\n",
       "      <td>5</td>\n",
       "      <td>5</td>\n",
       "      <td>5</td>\n",
       "      <td>5</td>\n",
       "    </tr>\n",
       "    <tr>\n",
       "      <th>date</th>\n",
       "      <td>2015-07-31 00:00:00</td>\n",
       "      <td>2015-07-31 00:00:00</td>\n",
       "      <td>2015-07-31 00:00:00</td>\n",
       "      <td>2015-07-31 00:00:00</td>\n",
       "      <td>2015-07-31 00:00:00</td>\n",
       "    </tr>\n",
       "    <tr>\n",
       "      <th>sales</th>\n",
       "      <td>5263</td>\n",
       "      <td>6064</td>\n",
       "      <td>8314</td>\n",
       "      <td>13995</td>\n",
       "      <td>4822</td>\n",
       "    </tr>\n",
       "    <tr>\n",
       "      <th>customers</th>\n",
       "      <td>555</td>\n",
       "      <td>625</td>\n",
       "      <td>821</td>\n",
       "      <td>1498</td>\n",
       "      <td>559</td>\n",
       "    </tr>\n",
       "    <tr>\n",
       "      <th>open</th>\n",
       "      <td>1</td>\n",
       "      <td>1</td>\n",
       "      <td>1</td>\n",
       "      <td>1</td>\n",
       "      <td>1</td>\n",
       "    </tr>\n",
       "    <tr>\n",
       "      <th>promo</th>\n",
       "      <td>1</td>\n",
       "      <td>1</td>\n",
       "      <td>1</td>\n",
       "      <td>1</td>\n",
       "      <td>1</td>\n",
       "    </tr>\n",
       "    <tr>\n",
       "      <th>state_holiday</th>\n",
       "      <td>0</td>\n",
       "      <td>0</td>\n",
       "      <td>0</td>\n",
       "      <td>0</td>\n",
       "      <td>0</td>\n",
       "    </tr>\n",
       "    <tr>\n",
       "      <th>school_holiday</th>\n",
       "      <td>1</td>\n",
       "      <td>1</td>\n",
       "      <td>1</td>\n",
       "      <td>1</td>\n",
       "      <td>1</td>\n",
       "    </tr>\n",
       "    <tr>\n",
       "      <th>store_type</th>\n",
       "      <td>c</td>\n",
       "      <td>a</td>\n",
       "      <td>a</td>\n",
       "      <td>c</td>\n",
       "      <td>a</td>\n",
       "    </tr>\n",
       "    <tr>\n",
       "      <th>assortment</th>\n",
       "      <td>a</td>\n",
       "      <td>a</td>\n",
       "      <td>a</td>\n",
       "      <td>c</td>\n",
       "      <td>a</td>\n",
       "    </tr>\n",
       "    <tr>\n",
       "      <th>competition_distance</th>\n",
       "      <td>1270.0</td>\n",
       "      <td>570.0</td>\n",
       "      <td>14130.0</td>\n",
       "      <td>620.0</td>\n",
       "      <td>29910.0</td>\n",
       "    </tr>\n",
       "    <tr>\n",
       "      <th>competition_open_since_month</th>\n",
       "      <td>9</td>\n",
       "      <td>11</td>\n",
       "      <td>12</td>\n",
       "      <td>9</td>\n",
       "      <td>4</td>\n",
       "    </tr>\n",
       "    <tr>\n",
       "      <th>competition_open_since_year</th>\n",
       "      <td>2008</td>\n",
       "      <td>2007</td>\n",
       "      <td>2006</td>\n",
       "      <td>2009</td>\n",
       "      <td>2015</td>\n",
       "    </tr>\n",
       "    <tr>\n",
       "      <th>promo2</th>\n",
       "      <td>0</td>\n",
       "      <td>1</td>\n",
       "      <td>1</td>\n",
       "      <td>0</td>\n",
       "      <td>0</td>\n",
       "    </tr>\n",
       "    <tr>\n",
       "      <th>promo2_since_week</th>\n",
       "      <td>31</td>\n",
       "      <td>13</td>\n",
       "      <td>14</td>\n",
       "      <td>31</td>\n",
       "      <td>31</td>\n",
       "    </tr>\n",
       "    <tr>\n",
       "      <th>promo2_since_year</th>\n",
       "      <td>2015</td>\n",
       "      <td>2010</td>\n",
       "      <td>2011</td>\n",
       "      <td>2015</td>\n",
       "      <td>2015</td>\n",
       "    </tr>\n",
       "    <tr>\n",
       "      <th>promo_interval</th>\n",
       "      <td>0</td>\n",
       "      <td>Jan,Apr,Jul,Oct</td>\n",
       "      <td>Jan,Apr,Jul,Oct</td>\n",
       "      <td>0</td>\n",
       "      <td>0</td>\n",
       "    </tr>\n",
       "    <tr>\n",
       "      <th>month_map</th>\n",
       "      <td>Jul</td>\n",
       "      <td>Jul</td>\n",
       "      <td>Jul</td>\n",
       "      <td>Jul</td>\n",
       "      <td>Jul</td>\n",
       "    </tr>\n",
       "    <tr>\n",
       "      <th>is_promo</th>\n",
       "      <td>0</td>\n",
       "      <td>1</td>\n",
       "      <td>1</td>\n",
       "      <td>0</td>\n",
       "      <td>0</td>\n",
       "    </tr>\n",
       "  </tbody>\n",
       "</table>\n",
       "</div>"
      ],
      "text/plain": [
       "                                                0                    1                    2                    3                    4\n",
       "store                                           1                    2                    3                    4                    5\n",
       "day_of_week                                     5                    5                    5                    5                    5\n",
       "date                          2015-07-31 00:00:00  2015-07-31 00:00:00  2015-07-31 00:00:00  2015-07-31 00:00:00  2015-07-31 00:00:00\n",
       "sales                                        5263                 6064                 8314                13995                 4822\n",
       "customers                                     555                  625                  821                 1498                  559\n",
       "open                                            1                    1                    1                    1                    1\n",
       "promo                                           1                    1                    1                    1                    1\n",
       "state_holiday                                   0                    0                    0                    0                    0\n",
       "school_holiday                                  1                    1                    1                    1                    1\n",
       "store_type                                      c                    a                    a                    c                    a\n",
       "assortment                                      a                    a                    a                    c                    a\n",
       "competition_distance                       1270.0                570.0              14130.0                620.0              29910.0\n",
       "competition_open_since_month                    9                   11                   12                    9                    4\n",
       "competition_open_since_year                  2008                 2007                 2006                 2009                 2015\n",
       "promo2                                          0                    1                    1                    0                    0\n",
       "promo2_since_week                              31                   13                   14                   31                   31\n",
       "promo2_since_year                            2015                 2010                 2011                 2015                 2015\n",
       "promo_interval                                  0      Jan,Apr,Jul,Oct      Jan,Apr,Jul,Oct                    0                    0\n",
       "month_map                                     Jul                  Jul                  Jul                  Jul                  Jul\n",
       "is_promo                                        0                    1                    1                    0                    0"
      ]
     },
     "execution_count": 45,
     "metadata": {},
     "output_type": "execute_result"
    }
   ],
   "source": [
    "df2.head().T"
   ]
  },
  {
   "cell_type": "markdown",
   "id": "fabulous-quantity",
   "metadata": {},
   "source": [
    "# 3.0 STEP 03 - FILTERING OF VARIABLE"
   ]
  },
  {
   "cell_type": "code",
   "execution_count": 62,
   "id": "academic-drink",
   "metadata": {
    "ExecuteTime": {
     "end_time": "2021-03-11T16:09:28.134947Z",
     "start_time": "2021-03-11T16:09:26.940095Z"
    }
   },
   "outputs": [],
   "source": [
    "df3 = df2.copy()"
   ]
  },
  {
   "cell_type": "code",
   "execution_count": 63,
   "id": "hazardous-debate",
   "metadata": {
    "ExecuteTime": {
     "end_time": "2021-03-11T16:09:28.968103Z",
     "start_time": "2021-03-11T16:09:28.822712Z"
    }
   },
   "outputs": [
    {
     "data": {
      "text/html": [
       "<div>\n",
       "<style scoped>\n",
       "    .dataframe tbody tr th:only-of-type {\n",
       "        vertical-align: middle;\n",
       "    }\n",
       "\n",
       "    .dataframe tbody tr th {\n",
       "        vertical-align: top;\n",
       "    }\n",
       "\n",
       "    .dataframe thead th {\n",
       "        text-align: right;\n",
       "    }\n",
       "</style>\n",
       "<table border=\"1\" class=\"dataframe\">\n",
       "  <thead>\n",
       "    <tr style=\"text-align: right;\">\n",
       "      <th></th>\n",
       "      <th>store</th>\n",
       "      <th>day_of_week</th>\n",
       "      <th>date</th>\n",
       "      <th>sales</th>\n",
       "      <th>customers</th>\n",
       "      <th>open</th>\n",
       "      <th>promo</th>\n",
       "      <th>state_holiday</th>\n",
       "      <th>school_holiday</th>\n",
       "      <th>store_type</th>\n",
       "      <th>assortment</th>\n",
       "      <th>competition_distance</th>\n",
       "      <th>competition_open_since_month</th>\n",
       "      <th>competition_open_since_year</th>\n",
       "      <th>promo2</th>\n",
       "      <th>promo2_since_week</th>\n",
       "      <th>promo2_since_year</th>\n",
       "      <th>promo_interval</th>\n",
       "      <th>month_map</th>\n",
       "      <th>is_promo</th>\n",
       "    </tr>\n",
       "  </thead>\n",
       "  <tbody>\n",
       "    <tr>\n",
       "      <th>0</th>\n",
       "      <td>1</td>\n",
       "      <td>5</td>\n",
       "      <td>2015-07-31</td>\n",
       "      <td>5263</td>\n",
       "      <td>555</td>\n",
       "      <td>1</td>\n",
       "      <td>1</td>\n",
       "      <td>0</td>\n",
       "      <td>1</td>\n",
       "      <td>c</td>\n",
       "      <td>a</td>\n",
       "      <td>1270.0</td>\n",
       "      <td>9</td>\n",
       "      <td>2008</td>\n",
       "      <td>0</td>\n",
       "      <td>31</td>\n",
       "      <td>2015</td>\n",
       "      <td>0</td>\n",
       "      <td>Jul</td>\n",
       "      <td>0</td>\n",
       "    </tr>\n",
       "    <tr>\n",
       "      <th>1</th>\n",
       "      <td>2</td>\n",
       "      <td>5</td>\n",
       "      <td>2015-07-31</td>\n",
       "      <td>6064</td>\n",
       "      <td>625</td>\n",
       "      <td>1</td>\n",
       "      <td>1</td>\n",
       "      <td>0</td>\n",
       "      <td>1</td>\n",
       "      <td>a</td>\n",
       "      <td>a</td>\n",
       "      <td>570.0</td>\n",
       "      <td>11</td>\n",
       "      <td>2007</td>\n",
       "      <td>1</td>\n",
       "      <td>13</td>\n",
       "      <td>2010</td>\n",
       "      <td>Jan,Apr,Jul,Oct</td>\n",
       "      <td>Jul</td>\n",
       "      <td>1</td>\n",
       "    </tr>\n",
       "    <tr>\n",
       "      <th>2</th>\n",
       "      <td>3</td>\n",
       "      <td>5</td>\n",
       "      <td>2015-07-31</td>\n",
       "      <td>8314</td>\n",
       "      <td>821</td>\n",
       "      <td>1</td>\n",
       "      <td>1</td>\n",
       "      <td>0</td>\n",
       "      <td>1</td>\n",
       "      <td>a</td>\n",
       "      <td>a</td>\n",
       "      <td>14130.0</td>\n",
       "      <td>12</td>\n",
       "      <td>2006</td>\n",
       "      <td>1</td>\n",
       "      <td>14</td>\n",
       "      <td>2011</td>\n",
       "      <td>Jan,Apr,Jul,Oct</td>\n",
       "      <td>Jul</td>\n",
       "      <td>1</td>\n",
       "    </tr>\n",
       "    <tr>\n",
       "      <th>3</th>\n",
       "      <td>4</td>\n",
       "      <td>5</td>\n",
       "      <td>2015-07-31</td>\n",
       "      <td>13995</td>\n",
       "      <td>1498</td>\n",
       "      <td>1</td>\n",
       "      <td>1</td>\n",
       "      <td>0</td>\n",
       "      <td>1</td>\n",
       "      <td>c</td>\n",
       "      <td>c</td>\n",
       "      <td>620.0</td>\n",
       "      <td>9</td>\n",
       "      <td>2009</td>\n",
       "      <td>0</td>\n",
       "      <td>31</td>\n",
       "      <td>2015</td>\n",
       "      <td>0</td>\n",
       "      <td>Jul</td>\n",
       "      <td>0</td>\n",
       "    </tr>\n",
       "    <tr>\n",
       "      <th>4</th>\n",
       "      <td>5</td>\n",
       "      <td>5</td>\n",
       "      <td>2015-07-31</td>\n",
       "      <td>4822</td>\n",
       "      <td>559</td>\n",
       "      <td>1</td>\n",
       "      <td>1</td>\n",
       "      <td>0</td>\n",
       "      <td>1</td>\n",
       "      <td>a</td>\n",
       "      <td>a</td>\n",
       "      <td>29910.0</td>\n",
       "      <td>4</td>\n",
       "      <td>2015</td>\n",
       "      <td>0</td>\n",
       "      <td>31</td>\n",
       "      <td>2015</td>\n",
       "      <td>0</td>\n",
       "      <td>Jul</td>\n",
       "      <td>0</td>\n",
       "    </tr>\n",
       "  </tbody>\n",
       "</table>\n",
       "</div>"
      ],
      "text/plain": [
       "   store  day_of_week       date  sales  customers  open  promo state_holiday  school_holiday store_type assortment  competition_distance  competition_open_since_month  competition_open_since_year  promo2  promo2_since_week  promo2_since_year   promo_interval month_map  is_promo\n",
       "0      1            5 2015-07-31   5263        555     1      1             0               1          c          a                1270.0                             9                         2008       0                 31               2015                0       Jul         0\n",
       "1      2            5 2015-07-31   6064        625     1      1             0               1          a          a                 570.0                            11                         2007       1                 13               2010  Jan,Apr,Jul,Oct       Jul         1\n",
       "2      3            5 2015-07-31   8314        821     1      1             0               1          a          a               14130.0                            12                         2006       1                 14               2011  Jan,Apr,Jul,Oct       Jul         1\n",
       "3      4            5 2015-07-31  13995       1498     1      1             0               1          c          c                 620.0                             9                         2009       0                 31               2015                0       Jul         0\n",
       "4      5            5 2015-07-31   4822        559     1      1             0               1          a          a               29910.0                             4                         2015       0                 31               2015                0       Jul         0"
      ]
     },
     "execution_count": 63,
     "metadata": {},
     "output_type": "execute_result"
    }
   ],
   "source": [
    "df3.head()"
   ]
  },
  {
   "cell_type": "markdown",
   "id": "adult-candidate",
   "metadata": {},
   "source": [
    "3.1. Filtering rows"
   ]
  },
  {
   "cell_type": "code",
   "execution_count": 64,
   "id": "occasional-figure",
   "metadata": {
    "ExecuteTime": {
     "end_time": "2021-03-11T16:10:15.425573Z",
     "start_time": "2021-03-11T16:09:33.976310Z"
    }
   },
   "outputs": [],
   "source": [
    "df3 = df3[(df3['open'] != 0) & (df3['sales']>0)]"
   ]
  },
  {
   "cell_type": "code",
   "execution_count": 58,
   "id": "agreed-roberts",
   "metadata": {
    "ExecuteTime": {
     "end_time": "2021-03-11T15:52:00.324353Z",
     "start_time": "2021-03-11T15:52:00.316063Z"
    }
   },
   "outputs": [],
   "source": [
    "cols_drop = ['customers', 'open', 'month_map', 'promo_interval']\n"
   ]
  },
  {
   "cell_type": "markdown",
   "id": "studied-nutrition",
   "metadata": {},
   "source": [
    "3.2. Select "
   ]
  },
  {
   "cell_type": "code",
   "execution_count": 65,
   "id": "fossil-anthony",
   "metadata": {
    "ExecuteTime": {
     "end_time": "2021-03-11T16:11:16.619323Z",
     "start_time": "2021-03-11T16:11:15.513778Z"
    }
   },
   "outputs": [],
   "source": [
    "df3 = df3.drop(cols_drop, axis=1)"
   ]
  },
  {
   "cell_type": "code",
   "execution_count": null,
   "id": "married-edgar",
   "metadata": {},
   "outputs": [],
   "source": []
  }
 ],
 "metadata": {
  "hide_input": false,
  "kernelspec": {
   "display_name": "Python 3",
   "language": "python",
   "name": "python3"
  },
  "language_info": {
   "codemirror_mode": {
    "name": "ipython",
    "version": 3
   },
   "file_extension": ".py",
   "mimetype": "text/x-python",
   "name": "python",
   "nbconvert_exporter": "python",
   "pygments_lexer": "ipython3",
   "version": "3.8.0"
  },
  "nbTranslate": {
   "displayLangs": [
    "*"
   ],
   "hotkey": "alt-t",
   "langInMainMenu": true,
   "sourceLang": "en",
   "targetLang": "fr",
   "useGoogleTranslate": true
  }
 },
 "nbformat": 4,
 "nbformat_minor": 5
}
